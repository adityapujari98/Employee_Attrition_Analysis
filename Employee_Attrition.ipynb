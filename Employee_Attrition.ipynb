{
  "cells": [
    {
      "cell_type": "markdown",
      "source": [
        "# Mount Dataset"
      ],
      "metadata": {
        "id": "eRZp3BzxIzbB"
      },
      "id": "eRZp3BzxIzbB"
    },
    {
      "cell_type": "code",
      "source": [
        "from google.colab import drive\n",
        "drive.mount('/content/drive')"
      ],
      "metadata": {
        "colab": {
          "base_uri": "https://localhost:8080/"
        },
        "id": "k5xDqLGvI2LH",
        "outputId": "3376e0a9-d765-4169-da90-7c053e02538a"
      },
      "id": "k5xDqLGvI2LH",
      "execution_count": null,
      "outputs": [
        {
          "output_type": "stream",
          "name": "stdout",
          "text": [
            "Drive already mounted at /content/drive; to attempt to forcibly remount, call drive.mount(\"/content/drive\", force_remount=True).\n"
          ]
        }
      ]
    },
    {
      "cell_type": "code",
      "source": [
        "import os\n",
        "ROOT = r'/content/drive/MyDrive/MEA'\n",
        "os.chdir(ROOT)\n",
        "assert os.getcwd() == ROOT"
      ],
      "metadata": {
        "id": "N-W55i0_JGyG"
      },
      "id": "N-W55i0_JGyG",
      "execution_count": null,
      "outputs": []
    },
    {
      "cell_type": "markdown",
      "source": [
        "# Importing Libraries"
      ],
      "metadata": {
        "id": "TpLbKqohJZN0"
      },
      "id": "TpLbKqohJZN0"
    },
    {
      "cell_type": "code",
      "execution_count": null,
      "id": "acd7c79b",
      "metadata": {
        "execution": {
          "iopub.execute_input": "2022-02-07T17:39:24.523954Z",
          "iopub.status.busy": "2022-02-07T17:39:24.523246Z",
          "iopub.status.idle": "2022-02-07T17:39:26.170158Z",
          "shell.execute_reply": "2022-02-07T17:39:26.170747Z",
          "shell.execute_reply.started": "2022-02-07T17:34:31.811696Z"
        },
        "papermill": {
          "duration": 1.698534,
          "end_time": "2022-02-07T17:39:26.171048",
          "exception": false,
          "start_time": "2022-02-07T17:39:24.472514",
          "status": "completed"
        },
        "tags": [],
        "id": "acd7c79b"
      },
      "outputs": [],
      "source": [
        "import time\n",
        "import pandas as pd\n",
        "import numpy as np\n",
        "import pickle\n",
        "\n",
        "import seaborn as sns\n",
        "import matplotlib.pyplot as plt\n",
        "%matplotlib inline\n",
        "\n",
        "from sklearn.preprocessing import StandardScaler\n",
        "from sklearn.model_selection import train_test_split\n",
        "from sklearn.ensemble import RandomForestClassifier\n",
        "from sklearn.metrics import confusion_matrix\n",
        "from sklearn.metrics import plot_roc_curve, accuracy_score, classification_report\n",
        "from datetime import datetime\n",
        "\n",
        "#Suppressing warnings\n",
        "import warnings\n",
        "warnings.filterwarnings('ignore')\n",
        "pd.set_option('display.max_columns', None)\n",
        "pd.set_option('display.max_rows', None)"
      ]
    },
    {
      "cell_type": "markdown",
      "source": [
        "# Importing Dataset"
      ],
      "metadata": {
        "id": "RSRvTPzVJTNU"
      },
      "id": "RSRvTPzVJTNU"
    },
    {
      "cell_type": "code",
      "source": [
        "df = pd.read_csv('Employee-Attrition.csv')"
      ],
      "metadata": {
        "id": "exnnVdRqI2hU"
      },
      "id": "exnnVdRqI2hU",
      "execution_count": null,
      "outputs": []
    },
    {
      "cell_type": "markdown",
      "id": "55579349",
      "metadata": {
        "papermill": {
          "duration": 0.03591,
          "end_time": "2022-02-07T17:39:26.242682",
          "exception": false,
          "start_time": "2022-02-07T17:39:26.206772",
          "status": "completed"
        },
        "tags": [],
        "id": "55579349"
      },
      "source": [
        "## Data Source\n",
        "#### Reading file from folder locations\n"
      ]
    },
    {
      "cell_type": "code",
      "execution_count": null,
      "id": "1fa3de78",
      "metadata": {
        "execution": {
          "iopub.execute_input": "2022-02-07T17:39:26.317810Z",
          "iopub.status.busy": "2022-02-07T17:39:26.317145Z",
          "iopub.status.idle": "2022-02-07T17:39:26.379660Z",
          "shell.execute_reply": "2022-02-07T17:39:26.380155Z",
          "shell.execute_reply.started": "2022-02-07T17:34:31.827899Z"
        },
        "papermill": {
          "duration": 0.102709,
          "end_time": "2022-02-07T17:39:26.380347",
          "exception": false,
          "start_time": "2022-02-07T17:39:26.277638",
          "status": "completed"
        },
        "tags": [],
        "colab": {
          "base_uri": "https://localhost:8080/",
          "height": 392
        },
        "id": "1fa3de78",
        "outputId": "8aa3d793-fc2d-4a77-b60b-ad700880e6fe"
      },
      "outputs": [
        {
          "output_type": "stream",
          "name": "stdout",
          "text": [
            "Shape of Data:  (1470, 35)\n",
            "The missing columns in the dataset are:  []\n"
          ]
        },
        {
          "output_type": "execute_result",
          "data": {
            "text/plain": [
              "   Age Attrition     BusinessTravel  DailyRate              Department  \\\n",
              "0   41       Yes      Travel_Rarely       1102                   Sales   \n",
              "1   49        No  Travel_Frequently        279  Research & Development   \n",
              "2   37       Yes      Travel_Rarely       1373  Research & Development   \n",
              "3   33        No  Travel_Frequently       1392  Research & Development   \n",
              "4   27        No      Travel_Rarely        591  Research & Development   \n",
              "\n",
              "   DistanceFromHome  Education EducationField  EmployeeCount  EmployeeNumber  \\\n",
              "0                 1          2  Life Sciences              1               1   \n",
              "1                 8          1  Life Sciences              1               2   \n",
              "2                 2          2          Other              1               4   \n",
              "3                 3          4  Life Sciences              1               5   \n",
              "4                 2          1        Medical              1               7   \n",
              "\n",
              "   EnvironmentSatisfaction  Gender  HourlyRate  JobInvolvement  JobLevel  \\\n",
              "0                        2  Female          94               3         2   \n",
              "1                        3    Male          61               2         2   \n",
              "2                        4    Male          92               2         1   \n",
              "3                        4  Female          56               3         1   \n",
              "4                        1    Male          40               3         1   \n",
              "\n",
              "                 JobRole  JobSatisfaction MaritalStatus  MonthlyIncome  \\\n",
              "0        Sales Executive                4        Single           5993   \n",
              "1     Research Scientist                2       Married           5130   \n",
              "2  Laboratory Technician                3        Single           2090   \n",
              "3     Research Scientist                3       Married           2909   \n",
              "4  Laboratory Technician                2       Married           3468   \n",
              "\n",
              "   MonthlyRate  NumCompaniesWorked Over18 OverTime  PercentSalaryHike  \\\n",
              "0        19479                   8      Y      Yes                 11   \n",
              "1        24907                   1      Y       No                 23   \n",
              "2         2396                   6      Y      Yes                 15   \n",
              "3        23159                   1      Y      Yes                 11   \n",
              "4        16632                   9      Y       No                 12   \n",
              "\n",
              "   PerformanceRating  RelationshipSatisfaction  StandardHours  \\\n",
              "0                  3                         1             80   \n",
              "1                  4                         4             80   \n",
              "2                  3                         2             80   \n",
              "3                  3                         3             80   \n",
              "4                  3                         4             80   \n",
              "\n",
              "   StockOptionLevel  TotalWorkingYears  TrainingTimesLastYear  \\\n",
              "0                 0                  8                      0   \n",
              "1                 1                 10                      3   \n",
              "2                 0                  7                      3   \n",
              "3                 0                  8                      3   \n",
              "4                 1                  6                      3   \n",
              "\n",
              "   WorkLifeBalance  YearsAtCompany  YearsInCurrentRole  \\\n",
              "0                1               6                   4   \n",
              "1                3              10                   7   \n",
              "2                3               0                   0   \n",
              "3                3               8                   7   \n",
              "4                3               2                   2   \n",
              "\n",
              "   YearsSinceLastPromotion  YearsWithCurrManager  \n",
              "0                        0                     5  \n",
              "1                        1                     7  \n",
              "2                        0                     0  \n",
              "3                        3                     0  \n",
              "4                        2                     2  "
            ],
            "text/html": [
              "\n",
              "  <div id=\"df-49487e1c-5fd3-4f27-a5ac-0d2ce2bc0616\">\n",
              "    <div class=\"colab-df-container\">\n",
              "      <div>\n",
              "<style scoped>\n",
              "    .dataframe tbody tr th:only-of-type {\n",
              "        vertical-align: middle;\n",
              "    }\n",
              "\n",
              "    .dataframe tbody tr th {\n",
              "        vertical-align: top;\n",
              "    }\n",
              "\n",
              "    .dataframe thead th {\n",
              "        text-align: right;\n",
              "    }\n",
              "</style>\n",
              "<table border=\"1\" class=\"dataframe\">\n",
              "  <thead>\n",
              "    <tr style=\"text-align: right;\">\n",
              "      <th></th>\n",
              "      <th>Age</th>\n",
              "      <th>Attrition</th>\n",
              "      <th>BusinessTravel</th>\n",
              "      <th>DailyRate</th>\n",
              "      <th>Department</th>\n",
              "      <th>DistanceFromHome</th>\n",
              "      <th>Education</th>\n",
              "      <th>EducationField</th>\n",
              "      <th>EmployeeCount</th>\n",
              "      <th>EmployeeNumber</th>\n",
              "      <th>EnvironmentSatisfaction</th>\n",
              "      <th>Gender</th>\n",
              "      <th>HourlyRate</th>\n",
              "      <th>JobInvolvement</th>\n",
              "      <th>JobLevel</th>\n",
              "      <th>JobRole</th>\n",
              "      <th>JobSatisfaction</th>\n",
              "      <th>MaritalStatus</th>\n",
              "      <th>MonthlyIncome</th>\n",
              "      <th>MonthlyRate</th>\n",
              "      <th>NumCompaniesWorked</th>\n",
              "      <th>Over18</th>\n",
              "      <th>OverTime</th>\n",
              "      <th>PercentSalaryHike</th>\n",
              "      <th>PerformanceRating</th>\n",
              "      <th>RelationshipSatisfaction</th>\n",
              "      <th>StandardHours</th>\n",
              "      <th>StockOptionLevel</th>\n",
              "      <th>TotalWorkingYears</th>\n",
              "      <th>TrainingTimesLastYear</th>\n",
              "      <th>WorkLifeBalance</th>\n",
              "      <th>YearsAtCompany</th>\n",
              "      <th>YearsInCurrentRole</th>\n",
              "      <th>YearsSinceLastPromotion</th>\n",
              "      <th>YearsWithCurrManager</th>\n",
              "    </tr>\n",
              "  </thead>\n",
              "  <tbody>\n",
              "    <tr>\n",
              "      <th>0</th>\n",
              "      <td>41</td>\n",
              "      <td>Yes</td>\n",
              "      <td>Travel_Rarely</td>\n",
              "      <td>1102</td>\n",
              "      <td>Sales</td>\n",
              "      <td>1</td>\n",
              "      <td>2</td>\n",
              "      <td>Life Sciences</td>\n",
              "      <td>1</td>\n",
              "      <td>1</td>\n",
              "      <td>2</td>\n",
              "      <td>Female</td>\n",
              "      <td>94</td>\n",
              "      <td>3</td>\n",
              "      <td>2</td>\n",
              "      <td>Sales Executive</td>\n",
              "      <td>4</td>\n",
              "      <td>Single</td>\n",
              "      <td>5993</td>\n",
              "      <td>19479</td>\n",
              "      <td>8</td>\n",
              "      <td>Y</td>\n",
              "      <td>Yes</td>\n",
              "      <td>11</td>\n",
              "      <td>3</td>\n",
              "      <td>1</td>\n",
              "      <td>80</td>\n",
              "      <td>0</td>\n",
              "      <td>8</td>\n",
              "      <td>0</td>\n",
              "      <td>1</td>\n",
              "      <td>6</td>\n",
              "      <td>4</td>\n",
              "      <td>0</td>\n",
              "      <td>5</td>\n",
              "    </tr>\n",
              "    <tr>\n",
              "      <th>1</th>\n",
              "      <td>49</td>\n",
              "      <td>No</td>\n",
              "      <td>Travel_Frequently</td>\n",
              "      <td>279</td>\n",
              "      <td>Research &amp; Development</td>\n",
              "      <td>8</td>\n",
              "      <td>1</td>\n",
              "      <td>Life Sciences</td>\n",
              "      <td>1</td>\n",
              "      <td>2</td>\n",
              "      <td>3</td>\n",
              "      <td>Male</td>\n",
              "      <td>61</td>\n",
              "      <td>2</td>\n",
              "      <td>2</td>\n",
              "      <td>Research Scientist</td>\n",
              "      <td>2</td>\n",
              "      <td>Married</td>\n",
              "      <td>5130</td>\n",
              "      <td>24907</td>\n",
              "      <td>1</td>\n",
              "      <td>Y</td>\n",
              "      <td>No</td>\n",
              "      <td>23</td>\n",
              "      <td>4</td>\n",
              "      <td>4</td>\n",
              "      <td>80</td>\n",
              "      <td>1</td>\n",
              "      <td>10</td>\n",
              "      <td>3</td>\n",
              "      <td>3</td>\n",
              "      <td>10</td>\n",
              "      <td>7</td>\n",
              "      <td>1</td>\n",
              "      <td>7</td>\n",
              "    </tr>\n",
              "    <tr>\n",
              "      <th>2</th>\n",
              "      <td>37</td>\n",
              "      <td>Yes</td>\n",
              "      <td>Travel_Rarely</td>\n",
              "      <td>1373</td>\n",
              "      <td>Research &amp; Development</td>\n",
              "      <td>2</td>\n",
              "      <td>2</td>\n",
              "      <td>Other</td>\n",
              "      <td>1</td>\n",
              "      <td>4</td>\n",
              "      <td>4</td>\n",
              "      <td>Male</td>\n",
              "      <td>92</td>\n",
              "      <td>2</td>\n",
              "      <td>1</td>\n",
              "      <td>Laboratory Technician</td>\n",
              "      <td>3</td>\n",
              "      <td>Single</td>\n",
              "      <td>2090</td>\n",
              "      <td>2396</td>\n",
              "      <td>6</td>\n",
              "      <td>Y</td>\n",
              "      <td>Yes</td>\n",
              "      <td>15</td>\n",
              "      <td>3</td>\n",
              "      <td>2</td>\n",
              "      <td>80</td>\n",
              "      <td>0</td>\n",
              "      <td>7</td>\n",
              "      <td>3</td>\n",
              "      <td>3</td>\n",
              "      <td>0</td>\n",
              "      <td>0</td>\n",
              "      <td>0</td>\n",
              "      <td>0</td>\n",
              "    </tr>\n",
              "    <tr>\n",
              "      <th>3</th>\n",
              "      <td>33</td>\n",
              "      <td>No</td>\n",
              "      <td>Travel_Frequently</td>\n",
              "      <td>1392</td>\n",
              "      <td>Research &amp; Development</td>\n",
              "      <td>3</td>\n",
              "      <td>4</td>\n",
              "      <td>Life Sciences</td>\n",
              "      <td>1</td>\n",
              "      <td>5</td>\n",
              "      <td>4</td>\n",
              "      <td>Female</td>\n",
              "      <td>56</td>\n",
              "      <td>3</td>\n",
              "      <td>1</td>\n",
              "      <td>Research Scientist</td>\n",
              "      <td>3</td>\n",
              "      <td>Married</td>\n",
              "      <td>2909</td>\n",
              "      <td>23159</td>\n",
              "      <td>1</td>\n",
              "      <td>Y</td>\n",
              "      <td>Yes</td>\n",
              "      <td>11</td>\n",
              "      <td>3</td>\n",
              "      <td>3</td>\n",
              "      <td>80</td>\n",
              "      <td>0</td>\n",
              "      <td>8</td>\n",
              "      <td>3</td>\n",
              "      <td>3</td>\n",
              "      <td>8</td>\n",
              "      <td>7</td>\n",
              "      <td>3</td>\n",
              "      <td>0</td>\n",
              "    </tr>\n",
              "    <tr>\n",
              "      <th>4</th>\n",
              "      <td>27</td>\n",
              "      <td>No</td>\n",
              "      <td>Travel_Rarely</td>\n",
              "      <td>591</td>\n",
              "      <td>Research &amp; Development</td>\n",
              "      <td>2</td>\n",
              "      <td>1</td>\n",
              "      <td>Medical</td>\n",
              "      <td>1</td>\n",
              "      <td>7</td>\n",
              "      <td>1</td>\n",
              "      <td>Male</td>\n",
              "      <td>40</td>\n",
              "      <td>3</td>\n",
              "      <td>1</td>\n",
              "      <td>Laboratory Technician</td>\n",
              "      <td>2</td>\n",
              "      <td>Married</td>\n",
              "      <td>3468</td>\n",
              "      <td>16632</td>\n",
              "      <td>9</td>\n",
              "      <td>Y</td>\n",
              "      <td>No</td>\n",
              "      <td>12</td>\n",
              "      <td>3</td>\n",
              "      <td>4</td>\n",
              "      <td>80</td>\n",
              "      <td>1</td>\n",
              "      <td>6</td>\n",
              "      <td>3</td>\n",
              "      <td>3</td>\n",
              "      <td>2</td>\n",
              "      <td>2</td>\n",
              "      <td>2</td>\n",
              "      <td>2</td>\n",
              "    </tr>\n",
              "  </tbody>\n",
              "</table>\n",
              "</div>\n",
              "      <button class=\"colab-df-convert\" onclick=\"convertToInteractive('df-49487e1c-5fd3-4f27-a5ac-0d2ce2bc0616')\"\n",
              "              title=\"Convert this dataframe to an interactive table.\"\n",
              "              style=\"display:none;\">\n",
              "        \n",
              "  <svg xmlns=\"http://www.w3.org/2000/svg\" height=\"24px\"viewBox=\"0 0 24 24\"\n",
              "       width=\"24px\">\n",
              "    <path d=\"M0 0h24v24H0V0z\" fill=\"none\"/>\n",
              "    <path d=\"M18.56 5.44l.94 2.06.94-2.06 2.06-.94-2.06-.94-.94-2.06-.94 2.06-2.06.94zm-11 1L8.5 8.5l.94-2.06 2.06-.94-2.06-.94L8.5 2.5l-.94 2.06-2.06.94zm10 10l.94 2.06.94-2.06 2.06-.94-2.06-.94-.94-2.06-.94 2.06-2.06.94z\"/><path d=\"M17.41 7.96l-1.37-1.37c-.4-.4-.92-.59-1.43-.59-.52 0-1.04.2-1.43.59L10.3 9.45l-7.72 7.72c-.78.78-.78 2.05 0 2.83L4 21.41c.39.39.9.59 1.41.59.51 0 1.02-.2 1.41-.59l7.78-7.78 2.81-2.81c.8-.78.8-2.07 0-2.86zM5.41 20L4 18.59l7.72-7.72 1.47 1.35L5.41 20z\"/>\n",
              "  </svg>\n",
              "      </button>\n",
              "      \n",
              "  <style>\n",
              "    .colab-df-container {\n",
              "      display:flex;\n",
              "      flex-wrap:wrap;\n",
              "      gap: 12px;\n",
              "    }\n",
              "\n",
              "    .colab-df-convert {\n",
              "      background-color: #E8F0FE;\n",
              "      border: none;\n",
              "      border-radius: 50%;\n",
              "      cursor: pointer;\n",
              "      display: none;\n",
              "      fill: #1967D2;\n",
              "      height: 32px;\n",
              "      padding: 0 0 0 0;\n",
              "      width: 32px;\n",
              "    }\n",
              "\n",
              "    .colab-df-convert:hover {\n",
              "      background-color: #E2EBFA;\n",
              "      box-shadow: 0px 1px 2px rgba(60, 64, 67, 0.3), 0px 1px 3px 1px rgba(60, 64, 67, 0.15);\n",
              "      fill: #174EA6;\n",
              "    }\n",
              "\n",
              "    [theme=dark] .colab-df-convert {\n",
              "      background-color: #3B4455;\n",
              "      fill: #D2E3FC;\n",
              "    }\n",
              "\n",
              "    [theme=dark] .colab-df-convert:hover {\n",
              "      background-color: #434B5C;\n",
              "      box-shadow: 0px 1px 3px 1px rgba(0, 0, 0, 0.15);\n",
              "      filter: drop-shadow(0px 1px 2px rgba(0, 0, 0, 0.3));\n",
              "      fill: #FFFFFF;\n",
              "    }\n",
              "  </style>\n",
              "\n",
              "      <script>\n",
              "        const buttonEl =\n",
              "          document.querySelector('#df-49487e1c-5fd3-4f27-a5ac-0d2ce2bc0616 button.colab-df-convert');\n",
              "        buttonEl.style.display =\n",
              "          google.colab.kernel.accessAllowed ? 'block' : 'none';\n",
              "\n",
              "        async function convertToInteractive(key) {\n",
              "          const element = document.querySelector('#df-49487e1c-5fd3-4f27-a5ac-0d2ce2bc0616');\n",
              "          const dataTable =\n",
              "            await google.colab.kernel.invokeFunction('convertToInteractive',\n",
              "                                                     [key], {});\n",
              "          if (!dataTable) return;\n",
              "\n",
              "          const docLinkHtml = 'Like what you see? Visit the ' +\n",
              "            '<a target=\"_blank\" href=https://colab.research.google.com/notebooks/data_table.ipynb>data table notebook</a>'\n",
              "            + ' to learn more about interactive tables.';\n",
              "          element.innerHTML = '';\n",
              "          dataTable['output_type'] = 'display_data';\n",
              "          await google.colab.output.renderOutput(dataTable, element);\n",
              "          const docLink = document.createElement('div');\n",
              "          docLink.innerHTML = docLinkHtml;\n",
              "          element.appendChild(docLink);\n",
              "        }\n",
              "      </script>\n",
              "    </div>\n",
              "  </div>\n",
              "  "
            ]
          },
          "metadata": {},
          "execution_count": 5
        }
      ],
      "source": [
        "print(\"Shape of Data: \",df.shape)\n",
        "print('The missing columns in the dataset are: ',df.columns[df.isnull().any()].values) \n",
        "df.head()"
      ]
    },
    {
      "cell_type": "code",
      "execution_count": null,
      "id": "1833c0cd",
      "metadata": {
        "execution": {
          "iopub.execute_input": "2022-02-07T17:39:26.463931Z",
          "iopub.status.busy": "2022-02-07T17:39:26.455642Z",
          "iopub.status.idle": "2022-02-07T17:39:26.548191Z",
          "shell.execute_reply": "2022-02-07T17:39:26.547652Z",
          "shell.execute_reply.started": "2022-02-07T17:34:31.864722Z"
        },
        "papermill": {
          "duration": 0.131783,
          "end_time": "2022-02-07T17:39:26.548357",
          "exception": false,
          "start_time": "2022-02-07T17:39:26.416574",
          "status": "completed"
        },
        "tags": [],
        "colab": {
          "base_uri": "https://localhost:8080/",
          "height": 364
        },
        "id": "1833c0cd",
        "outputId": "3f8b00a3-78fa-4435-b180-22c724ada57b"
      },
      "outputs": [
        {
          "output_type": "execute_result",
          "data": {
            "text/plain": [
              "               Age    DailyRate  DistanceFromHome    Education  EmployeeCount  \\\n",
              "count  1470.000000  1470.000000       1470.000000  1470.000000         1470.0   \n",
              "mean     36.923810   802.485714          9.192517     2.912925            1.0   \n",
              "std       9.135373   403.509100          8.106864     1.024165            0.0   \n",
              "min      18.000000   102.000000          1.000000     1.000000            1.0   \n",
              "25%      30.000000   465.000000          2.000000     2.000000            1.0   \n",
              "50%      36.000000   802.000000          7.000000     3.000000            1.0   \n",
              "75%      43.000000  1157.000000         14.000000     4.000000            1.0   \n",
              "max      60.000000  1499.000000         29.000000     5.000000            1.0   \n",
              "\n",
              "       EmployeeNumber  EnvironmentSatisfaction   HourlyRate  JobInvolvement  \\\n",
              "count     1470.000000              1470.000000  1470.000000     1470.000000   \n",
              "mean      1024.865306                 2.721769    65.891156        2.729932   \n",
              "std        602.024335                 1.093082    20.329428        0.711561   \n",
              "min          1.000000                 1.000000    30.000000        1.000000   \n",
              "25%        491.250000                 2.000000    48.000000        2.000000   \n",
              "50%       1020.500000                 3.000000    66.000000        3.000000   \n",
              "75%       1555.750000                 4.000000    83.750000        3.000000   \n",
              "max       2068.000000                 4.000000   100.000000        4.000000   \n",
              "\n",
              "          JobLevel  JobSatisfaction  MonthlyIncome   MonthlyRate  \\\n",
              "count  1470.000000      1470.000000    1470.000000   1470.000000   \n",
              "mean      2.063946         2.728571    6502.931293  14313.103401   \n",
              "std       1.106940         1.102846    4707.956783   7117.786044   \n",
              "min       1.000000         1.000000    1009.000000   2094.000000   \n",
              "25%       1.000000         2.000000    2911.000000   8047.000000   \n",
              "50%       2.000000         3.000000    4919.000000  14235.500000   \n",
              "75%       3.000000         4.000000    8379.000000  20461.500000   \n",
              "max       5.000000         4.000000   19999.000000  26999.000000   \n",
              "\n",
              "       NumCompaniesWorked  PercentSalaryHike  PerformanceRating  \\\n",
              "count         1470.000000        1470.000000        1470.000000   \n",
              "mean             2.693197          15.209524           3.153741   \n",
              "std              2.498009           3.659938           0.360824   \n",
              "min              0.000000          11.000000           3.000000   \n",
              "25%              1.000000          12.000000           3.000000   \n",
              "50%              2.000000          14.000000           3.000000   \n",
              "75%              4.000000          18.000000           3.000000   \n",
              "max              9.000000          25.000000           4.000000   \n",
              "\n",
              "       RelationshipSatisfaction  StandardHours  StockOptionLevel  \\\n",
              "count               1470.000000         1470.0       1470.000000   \n",
              "mean                   2.712245           80.0          0.793878   \n",
              "std                    1.081209            0.0          0.852077   \n",
              "min                    1.000000           80.0          0.000000   \n",
              "25%                    2.000000           80.0          0.000000   \n",
              "50%                    3.000000           80.0          1.000000   \n",
              "75%                    4.000000           80.0          1.000000   \n",
              "max                    4.000000           80.0          3.000000   \n",
              "\n",
              "       TotalWorkingYears  TrainingTimesLastYear  WorkLifeBalance  \\\n",
              "count        1470.000000            1470.000000      1470.000000   \n",
              "mean           11.279592               2.799320         2.761224   \n",
              "std             7.780782               1.289271         0.706476   \n",
              "min             0.000000               0.000000         1.000000   \n",
              "25%             6.000000               2.000000         2.000000   \n",
              "50%            10.000000               3.000000         3.000000   \n",
              "75%            15.000000               3.000000         3.000000   \n",
              "max            40.000000               6.000000         4.000000   \n",
              "\n",
              "       YearsAtCompany  YearsInCurrentRole  YearsSinceLastPromotion  \\\n",
              "count     1470.000000         1470.000000              1470.000000   \n",
              "mean         7.008163            4.229252                 2.187755   \n",
              "std          6.126525            3.623137                 3.222430   \n",
              "min          0.000000            0.000000                 0.000000   \n",
              "25%          3.000000            2.000000                 0.000000   \n",
              "50%          5.000000            3.000000                 1.000000   \n",
              "75%          9.000000            7.000000                 3.000000   \n",
              "max         40.000000           18.000000                15.000000   \n",
              "\n",
              "       YearsWithCurrManager  \n",
              "count           1470.000000  \n",
              "mean               4.123129  \n",
              "std                3.568136  \n",
              "min                0.000000  \n",
              "25%                2.000000  \n",
              "50%                3.000000  \n",
              "75%                7.000000  \n",
              "max               17.000000  "
            ],
            "text/html": [
              "\n",
              "  <div id=\"df-dc5c00c1-f24c-41a7-946c-0b1a90f30084\">\n",
              "    <div class=\"colab-df-container\">\n",
              "      <div>\n",
              "<style scoped>\n",
              "    .dataframe tbody tr th:only-of-type {\n",
              "        vertical-align: middle;\n",
              "    }\n",
              "\n",
              "    .dataframe tbody tr th {\n",
              "        vertical-align: top;\n",
              "    }\n",
              "\n",
              "    .dataframe thead th {\n",
              "        text-align: right;\n",
              "    }\n",
              "</style>\n",
              "<table border=\"1\" class=\"dataframe\">\n",
              "  <thead>\n",
              "    <tr style=\"text-align: right;\">\n",
              "      <th></th>\n",
              "      <th>Age</th>\n",
              "      <th>DailyRate</th>\n",
              "      <th>DistanceFromHome</th>\n",
              "      <th>Education</th>\n",
              "      <th>EmployeeCount</th>\n",
              "      <th>EmployeeNumber</th>\n",
              "      <th>EnvironmentSatisfaction</th>\n",
              "      <th>HourlyRate</th>\n",
              "      <th>JobInvolvement</th>\n",
              "      <th>JobLevel</th>\n",
              "      <th>JobSatisfaction</th>\n",
              "      <th>MonthlyIncome</th>\n",
              "      <th>MonthlyRate</th>\n",
              "      <th>NumCompaniesWorked</th>\n",
              "      <th>PercentSalaryHike</th>\n",
              "      <th>PerformanceRating</th>\n",
              "      <th>RelationshipSatisfaction</th>\n",
              "      <th>StandardHours</th>\n",
              "      <th>StockOptionLevel</th>\n",
              "      <th>TotalWorkingYears</th>\n",
              "      <th>TrainingTimesLastYear</th>\n",
              "      <th>WorkLifeBalance</th>\n",
              "      <th>YearsAtCompany</th>\n",
              "      <th>YearsInCurrentRole</th>\n",
              "      <th>YearsSinceLastPromotion</th>\n",
              "      <th>YearsWithCurrManager</th>\n",
              "    </tr>\n",
              "  </thead>\n",
              "  <tbody>\n",
              "    <tr>\n",
              "      <th>count</th>\n",
              "      <td>1470.000000</td>\n",
              "      <td>1470.000000</td>\n",
              "      <td>1470.000000</td>\n",
              "      <td>1470.000000</td>\n",
              "      <td>1470.0</td>\n",
              "      <td>1470.000000</td>\n",
              "      <td>1470.000000</td>\n",
              "      <td>1470.000000</td>\n",
              "      <td>1470.000000</td>\n",
              "      <td>1470.000000</td>\n",
              "      <td>1470.000000</td>\n",
              "      <td>1470.000000</td>\n",
              "      <td>1470.000000</td>\n",
              "      <td>1470.000000</td>\n",
              "      <td>1470.000000</td>\n",
              "      <td>1470.000000</td>\n",
              "      <td>1470.000000</td>\n",
              "      <td>1470.0</td>\n",
              "      <td>1470.000000</td>\n",
              "      <td>1470.000000</td>\n",
              "      <td>1470.000000</td>\n",
              "      <td>1470.000000</td>\n",
              "      <td>1470.000000</td>\n",
              "      <td>1470.000000</td>\n",
              "      <td>1470.000000</td>\n",
              "      <td>1470.000000</td>\n",
              "    </tr>\n",
              "    <tr>\n",
              "      <th>mean</th>\n",
              "      <td>36.923810</td>\n",
              "      <td>802.485714</td>\n",
              "      <td>9.192517</td>\n",
              "      <td>2.912925</td>\n",
              "      <td>1.0</td>\n",
              "      <td>1024.865306</td>\n",
              "      <td>2.721769</td>\n",
              "      <td>65.891156</td>\n",
              "      <td>2.729932</td>\n",
              "      <td>2.063946</td>\n",
              "      <td>2.728571</td>\n",
              "      <td>6502.931293</td>\n",
              "      <td>14313.103401</td>\n",
              "      <td>2.693197</td>\n",
              "      <td>15.209524</td>\n",
              "      <td>3.153741</td>\n",
              "      <td>2.712245</td>\n",
              "      <td>80.0</td>\n",
              "      <td>0.793878</td>\n",
              "      <td>11.279592</td>\n",
              "      <td>2.799320</td>\n",
              "      <td>2.761224</td>\n",
              "      <td>7.008163</td>\n",
              "      <td>4.229252</td>\n",
              "      <td>2.187755</td>\n",
              "      <td>4.123129</td>\n",
              "    </tr>\n",
              "    <tr>\n",
              "      <th>std</th>\n",
              "      <td>9.135373</td>\n",
              "      <td>403.509100</td>\n",
              "      <td>8.106864</td>\n",
              "      <td>1.024165</td>\n",
              "      <td>0.0</td>\n",
              "      <td>602.024335</td>\n",
              "      <td>1.093082</td>\n",
              "      <td>20.329428</td>\n",
              "      <td>0.711561</td>\n",
              "      <td>1.106940</td>\n",
              "      <td>1.102846</td>\n",
              "      <td>4707.956783</td>\n",
              "      <td>7117.786044</td>\n",
              "      <td>2.498009</td>\n",
              "      <td>3.659938</td>\n",
              "      <td>0.360824</td>\n",
              "      <td>1.081209</td>\n",
              "      <td>0.0</td>\n",
              "      <td>0.852077</td>\n",
              "      <td>7.780782</td>\n",
              "      <td>1.289271</td>\n",
              "      <td>0.706476</td>\n",
              "      <td>6.126525</td>\n",
              "      <td>3.623137</td>\n",
              "      <td>3.222430</td>\n",
              "      <td>3.568136</td>\n",
              "    </tr>\n",
              "    <tr>\n",
              "      <th>min</th>\n",
              "      <td>18.000000</td>\n",
              "      <td>102.000000</td>\n",
              "      <td>1.000000</td>\n",
              "      <td>1.000000</td>\n",
              "      <td>1.0</td>\n",
              "      <td>1.000000</td>\n",
              "      <td>1.000000</td>\n",
              "      <td>30.000000</td>\n",
              "      <td>1.000000</td>\n",
              "      <td>1.000000</td>\n",
              "      <td>1.000000</td>\n",
              "      <td>1009.000000</td>\n",
              "      <td>2094.000000</td>\n",
              "      <td>0.000000</td>\n",
              "      <td>11.000000</td>\n",
              "      <td>3.000000</td>\n",
              "      <td>1.000000</td>\n",
              "      <td>80.0</td>\n",
              "      <td>0.000000</td>\n",
              "      <td>0.000000</td>\n",
              "      <td>0.000000</td>\n",
              "      <td>1.000000</td>\n",
              "      <td>0.000000</td>\n",
              "      <td>0.000000</td>\n",
              "      <td>0.000000</td>\n",
              "      <td>0.000000</td>\n",
              "    </tr>\n",
              "    <tr>\n",
              "      <th>25%</th>\n",
              "      <td>30.000000</td>\n",
              "      <td>465.000000</td>\n",
              "      <td>2.000000</td>\n",
              "      <td>2.000000</td>\n",
              "      <td>1.0</td>\n",
              "      <td>491.250000</td>\n",
              "      <td>2.000000</td>\n",
              "      <td>48.000000</td>\n",
              "      <td>2.000000</td>\n",
              "      <td>1.000000</td>\n",
              "      <td>2.000000</td>\n",
              "      <td>2911.000000</td>\n",
              "      <td>8047.000000</td>\n",
              "      <td>1.000000</td>\n",
              "      <td>12.000000</td>\n",
              "      <td>3.000000</td>\n",
              "      <td>2.000000</td>\n",
              "      <td>80.0</td>\n",
              "      <td>0.000000</td>\n",
              "      <td>6.000000</td>\n",
              "      <td>2.000000</td>\n",
              "      <td>2.000000</td>\n",
              "      <td>3.000000</td>\n",
              "      <td>2.000000</td>\n",
              "      <td>0.000000</td>\n",
              "      <td>2.000000</td>\n",
              "    </tr>\n",
              "    <tr>\n",
              "      <th>50%</th>\n",
              "      <td>36.000000</td>\n",
              "      <td>802.000000</td>\n",
              "      <td>7.000000</td>\n",
              "      <td>3.000000</td>\n",
              "      <td>1.0</td>\n",
              "      <td>1020.500000</td>\n",
              "      <td>3.000000</td>\n",
              "      <td>66.000000</td>\n",
              "      <td>3.000000</td>\n",
              "      <td>2.000000</td>\n",
              "      <td>3.000000</td>\n",
              "      <td>4919.000000</td>\n",
              "      <td>14235.500000</td>\n",
              "      <td>2.000000</td>\n",
              "      <td>14.000000</td>\n",
              "      <td>3.000000</td>\n",
              "      <td>3.000000</td>\n",
              "      <td>80.0</td>\n",
              "      <td>1.000000</td>\n",
              "      <td>10.000000</td>\n",
              "      <td>3.000000</td>\n",
              "      <td>3.000000</td>\n",
              "      <td>5.000000</td>\n",
              "      <td>3.000000</td>\n",
              "      <td>1.000000</td>\n",
              "      <td>3.000000</td>\n",
              "    </tr>\n",
              "    <tr>\n",
              "      <th>75%</th>\n",
              "      <td>43.000000</td>\n",
              "      <td>1157.000000</td>\n",
              "      <td>14.000000</td>\n",
              "      <td>4.000000</td>\n",
              "      <td>1.0</td>\n",
              "      <td>1555.750000</td>\n",
              "      <td>4.000000</td>\n",
              "      <td>83.750000</td>\n",
              "      <td>3.000000</td>\n",
              "      <td>3.000000</td>\n",
              "      <td>4.000000</td>\n",
              "      <td>8379.000000</td>\n",
              "      <td>20461.500000</td>\n",
              "      <td>4.000000</td>\n",
              "      <td>18.000000</td>\n",
              "      <td>3.000000</td>\n",
              "      <td>4.000000</td>\n",
              "      <td>80.0</td>\n",
              "      <td>1.000000</td>\n",
              "      <td>15.000000</td>\n",
              "      <td>3.000000</td>\n",
              "      <td>3.000000</td>\n",
              "      <td>9.000000</td>\n",
              "      <td>7.000000</td>\n",
              "      <td>3.000000</td>\n",
              "      <td>7.000000</td>\n",
              "    </tr>\n",
              "    <tr>\n",
              "      <th>max</th>\n",
              "      <td>60.000000</td>\n",
              "      <td>1499.000000</td>\n",
              "      <td>29.000000</td>\n",
              "      <td>5.000000</td>\n",
              "      <td>1.0</td>\n",
              "      <td>2068.000000</td>\n",
              "      <td>4.000000</td>\n",
              "      <td>100.000000</td>\n",
              "      <td>4.000000</td>\n",
              "      <td>5.000000</td>\n",
              "      <td>4.000000</td>\n",
              "      <td>19999.000000</td>\n",
              "      <td>26999.000000</td>\n",
              "      <td>9.000000</td>\n",
              "      <td>25.000000</td>\n",
              "      <td>4.000000</td>\n",
              "      <td>4.000000</td>\n",
              "      <td>80.0</td>\n",
              "      <td>3.000000</td>\n",
              "      <td>40.000000</td>\n",
              "      <td>6.000000</td>\n",
              "      <td>4.000000</td>\n",
              "      <td>40.000000</td>\n",
              "      <td>18.000000</td>\n",
              "      <td>15.000000</td>\n",
              "      <td>17.000000</td>\n",
              "    </tr>\n",
              "  </tbody>\n",
              "</table>\n",
              "</div>\n",
              "      <button class=\"colab-df-convert\" onclick=\"convertToInteractive('df-dc5c00c1-f24c-41a7-946c-0b1a90f30084')\"\n",
              "              title=\"Convert this dataframe to an interactive table.\"\n",
              "              style=\"display:none;\">\n",
              "        \n",
              "  <svg xmlns=\"http://www.w3.org/2000/svg\" height=\"24px\"viewBox=\"0 0 24 24\"\n",
              "       width=\"24px\">\n",
              "    <path d=\"M0 0h24v24H0V0z\" fill=\"none\"/>\n",
              "    <path d=\"M18.56 5.44l.94 2.06.94-2.06 2.06-.94-2.06-.94-.94-2.06-.94 2.06-2.06.94zm-11 1L8.5 8.5l.94-2.06 2.06-.94-2.06-.94L8.5 2.5l-.94 2.06-2.06.94zm10 10l.94 2.06.94-2.06 2.06-.94-2.06-.94-.94-2.06-.94 2.06-2.06.94z\"/><path d=\"M17.41 7.96l-1.37-1.37c-.4-.4-.92-.59-1.43-.59-.52 0-1.04.2-1.43.59L10.3 9.45l-7.72 7.72c-.78.78-.78 2.05 0 2.83L4 21.41c.39.39.9.59 1.41.59.51 0 1.02-.2 1.41-.59l7.78-7.78 2.81-2.81c.8-.78.8-2.07 0-2.86zM5.41 20L4 18.59l7.72-7.72 1.47 1.35L5.41 20z\"/>\n",
              "  </svg>\n",
              "      </button>\n",
              "      \n",
              "  <style>\n",
              "    .colab-df-container {\n",
              "      display:flex;\n",
              "      flex-wrap:wrap;\n",
              "      gap: 12px;\n",
              "    }\n",
              "\n",
              "    .colab-df-convert {\n",
              "      background-color: #E8F0FE;\n",
              "      border: none;\n",
              "      border-radius: 50%;\n",
              "      cursor: pointer;\n",
              "      display: none;\n",
              "      fill: #1967D2;\n",
              "      height: 32px;\n",
              "      padding: 0 0 0 0;\n",
              "      width: 32px;\n",
              "    }\n",
              "\n",
              "    .colab-df-convert:hover {\n",
              "      background-color: #E2EBFA;\n",
              "      box-shadow: 0px 1px 2px rgba(60, 64, 67, 0.3), 0px 1px 3px 1px rgba(60, 64, 67, 0.15);\n",
              "      fill: #174EA6;\n",
              "    }\n",
              "\n",
              "    [theme=dark] .colab-df-convert {\n",
              "      background-color: #3B4455;\n",
              "      fill: #D2E3FC;\n",
              "    }\n",
              "\n",
              "    [theme=dark] .colab-df-convert:hover {\n",
              "      background-color: #434B5C;\n",
              "      box-shadow: 0px 1px 3px 1px rgba(0, 0, 0, 0.15);\n",
              "      filter: drop-shadow(0px 1px 2px rgba(0, 0, 0, 0.3));\n",
              "      fill: #FFFFFF;\n",
              "    }\n",
              "  </style>\n",
              "\n",
              "      <script>\n",
              "        const buttonEl =\n",
              "          document.querySelector('#df-dc5c00c1-f24c-41a7-946c-0b1a90f30084 button.colab-df-convert');\n",
              "        buttonEl.style.display =\n",
              "          google.colab.kernel.accessAllowed ? 'block' : 'none';\n",
              "\n",
              "        async function convertToInteractive(key) {\n",
              "          const element = document.querySelector('#df-dc5c00c1-f24c-41a7-946c-0b1a90f30084');\n",
              "          const dataTable =\n",
              "            await google.colab.kernel.invokeFunction('convertToInteractive',\n",
              "                                                     [key], {});\n",
              "          if (!dataTable) return;\n",
              "\n",
              "          const docLinkHtml = 'Like what you see? Visit the ' +\n",
              "            '<a target=\"_blank\" href=https://colab.research.google.com/notebooks/data_table.ipynb>data table notebook</a>'\n",
              "            + ' to learn more about interactive tables.';\n",
              "          element.innerHTML = '';\n",
              "          dataTable['output_type'] = 'display_data';\n",
              "          await google.colab.output.renderOutput(dataTable, element);\n",
              "          const docLink = document.createElement('div');\n",
              "          docLink.innerHTML = docLinkHtml;\n",
              "          element.appendChild(docLink);\n",
              "        }\n",
              "      </script>\n",
              "    </div>\n",
              "  </div>\n",
              "  "
            ]
          },
          "metadata": {},
          "execution_count": 6
        }
      ],
      "source": [
        "#View some basic statistical details like percentile, mean, standard deviation etc.\n",
        "df.describe()"
      ]
    },
    {
      "cell_type": "markdown",
      "id": "f5ca5c68",
      "metadata": {
        "papermill": {
          "duration": 0.03625,
          "end_time": "2022-02-07T17:39:26.621685",
          "exception": false,
          "start_time": "2022-02-07T17:39:26.585435",
          "status": "completed"
        },
        "tags": [],
        "id": "f5ca5c68"
      },
      "source": [
        "## EDA"
      ]
    },
    {
      "cell_type": "markdown",
      "id": "c5b6393b",
      "metadata": {
        "papermill": {
          "duration": 0.041011,
          "end_time": "2022-02-07T17:39:26.699816",
          "exception": false,
          "start_time": "2022-02-07T17:39:26.658805",
          "status": "completed"
        },
        "tags": [],
        "id": "c5b6393b"
      },
      "source": [
        "### Number of employee overall left or stayed in company"
      ]
    },
    {
      "cell_type": "code",
      "execution_count": null,
      "id": "6c9aacdd",
      "metadata": {
        "execution": {
          "iopub.execute_input": "2022-02-07T17:39:26.785917Z",
          "iopub.status.busy": "2022-02-07T17:39:26.784843Z",
          "iopub.status.idle": "2022-02-07T17:39:26.957819Z",
          "shell.execute_reply": "2022-02-07T17:39:26.958834Z",
          "shell.execute_reply.started": "2022-02-07T17:34:31.952280Z"
        },
        "papermill": {
          "duration": 0.222182,
          "end_time": "2022-02-07T17:39:26.959104",
          "exception": false,
          "start_time": "2022-02-07T17:39:26.736922",
          "status": "completed"
        },
        "tags": [],
        "colab": {
          "base_uri": "https://localhost:8080/",
          "height": 283
        },
        "id": "6c9aacdd",
        "outputId": "cd19ceb8-72dd-480a-d9f3-67dc2ce7693d"
      },
      "outputs": [
        {
          "output_type": "stream",
          "name": "stdout",
          "text": [
            "83.87755155563354\n",
            "16.122448444366455\n"
          ]
        },
        {
          "output_type": "display_data",
          "data": {
            "text/plain": [
              "<Figure size 432x288 with 1 Axes>"
            ],
            "image/png": "[encoded data removed]"
          },
          "metadata": {}
        }
      ],
      "source": [
        "\n",
        "def per_val(x):\n",
        "    print(x)\n",
        "    return '{:.2f}%\\n({:.0f})'.format(x, total*x/100)\n",
        "\n",
        "v_counts = df['Attrition'].value_counts()\n",
        "total = len(df['Attrition'])\n",
        "fig = plt.figure()\n",
        "plt.pie(v_counts, labels=v_counts.index, autopct=per_val, shadow=True);"
      ]
    },
    {
      "cell_type": "markdown",
      "id": "425f4f82",
      "metadata": {
        "papermill": {
          "duration": 0.037653,
          "end_time": "2022-02-07T17:39:27.068490",
          "exception": false,
          "start_time": "2022-02-07T17:39:27.030837",
          "status": "completed"
        },
        "tags": [],
        "id": "425f4f82"
      },
      "source": [
        "### Number of employees that left and stayed by age"
      ]
    },
    {
      "cell_type": "code",
      "execution_count": null,
      "id": "d47a3472",
      "metadata": {
        "execution": {
          "iopub.execute_input": "2022-02-07T17:39:27.171120Z",
          "iopub.status.busy": "2022-02-07T17:39:27.148153Z",
          "iopub.status.idle": "2022-02-07T17:39:27.849396Z",
          "shell.execute_reply": "2022-02-07T17:39:27.848167Z",
          "shell.execute_reply.started": "2022-02-07T17:34:32.121427Z"
        },
        "papermill": {
          "duration": 0.741917,
          "end_time": "2022-02-07T17:39:27.849572",
          "exception": false,
          "start_time": "2022-02-07T17:39:27.107655",
          "status": "completed"
        },
        "tags": [],
        "colab": {
          "base_uri": "https://localhost:8080/",
          "height": 279
        },
        "id": "d47a3472",
        "outputId": "d0c61de6-3de8-4ebf-e1e6-a0176b99a265"
      },
      "outputs": [
        {
          "output_type": "display_data",
          "data": {
            "text/plain": [
              "<Figure size 864x288 with 1 Axes>"
            ],
            "image/png": "[encoded data removed]"
          },
          "metadata": {
            "needs_background": "light"
          }
        }
      ],
      "source": [
        "import matplotlib.pyplot as plt\n",
        "fig_dims = (12, 4)\n",
        "fig, ax = plt.subplots(figsize=fig_dims)\n",
        "\n",
        "sns.countplot(x='Age', hue='Attrition', data = df, palette=\"colorblind\", ax = ax,  \n",
        "              edgecolor=sns.color_palette(\"dark\", n_colors = 1))\n",
        "plt.show()"
      ]
    },
    {
      "cell_type": "code",
      "execution_count": null,
      "id": "1363e8c8",
      "metadata": {
        "execution": {
          "iopub.execute_input": "2022-02-07T17:39:27.948013Z",
          "iopub.status.busy": "2022-02-07T17:39:27.946973Z",
          "iopub.status.idle": "2022-02-07T17:39:28.454551Z",
          "shell.execute_reply": "2022-02-07T17:39:28.455139Z",
          "shell.execute_reply.started": "2022-02-07T17:34:32.628884Z"
        },
        "papermill": {
          "duration": 0.565139,
          "end_time": "2022-02-07T17:39:28.455324",
          "exception": false,
          "start_time": "2022-02-07T17:39:27.890185",
          "status": "completed"
        },
        "tags": [],
        "colab": {
          "base_uri": "https://localhost:8080/",
          "height": 609
        },
        "id": "1363e8c8",
        "outputId": "32d9d42e-bdb4-44f1-c2d8-53d41da4a50b"
      },
      "outputs": [
        {
          "output_type": "display_data",
          "data": {
            "text/plain": [
              "<Figure size 1080x720 with 1 Axes>"
            ],
            "image/png": "[encoded data removed]"
          },
          "metadata": {
            "needs_background": "light"
          }
        }
      ],
      "source": [
        "yes_attrition_df = (df[df['Attrition']=='Yes']).copy()\n",
        "no_attrition_df = (df[df['Attrition']=='No']).copy()\n",
        "plt.figure(figsize=(15,10))\n",
        "sns.distplot(yes_attrition_df['DistanceFromHome'], hist=True, kde=True, \n",
        "             bins=int(180/5), color = 'red', \n",
        "             kde_kws = {'shade': True, 'linewidth': 2}, \n",
        "             label = \"Left the Organization\")\n",
        "\n",
        "sns.distplot(no_attrition_df['DistanceFromHome'], hist=True, kde=True, \n",
        "             bins=int(180/5), color = 'blue',  \n",
        "             kde_kws = {'shade': True, 'linewidth': 2}, \n",
        "             label = \"Stayed back organization\")\n",
        "\n",
        "plt.show()"
      ]
    },
    {
      "cell_type": "code",
      "execution_count": null,
      "id": "19ec792a",
      "metadata": {
        "execution": {
          "iopub.execute_input": "2022-02-07T17:39:28.540235Z",
          "iopub.status.busy": "2022-02-07T17:39:28.539315Z",
          "iopub.status.idle": "2022-02-07T17:39:28.542957Z",
          "shell.execute_reply": "2022-02-07T17:39:28.543572Z",
          "shell.execute_reply.started": "2022-02-07T17:34:33.037454Z"
        },
        "papermill": {
          "duration": 0.047304,
          "end_time": "2022-02-07T17:39:28.543733",
          "exception": false,
          "start_time": "2022-02-07T17:39:28.496429",
          "status": "completed"
        },
        "tags": [],
        "id": "19ec792a"
      },
      "outputs": [],
      "source": [
        "attrition_df = (df[df['Attrition']=='Yes']).copy()\n",
        "def bar_plt(df):\n",
        "    plt.figure(figsize=(len(df.columns),len(df.columns)+10), facecolor='white')\n",
        "    cat_col = (df.select_dtypes(include = \"object\")).columns\n",
        "    plotnum=1\n",
        "    for i in cat_col:\n",
        "        ax=plt.subplot(len(cat_col),3,plotnum)\n",
        "        sns.barplot(df[i].value_counts().values, df[i].value_counts().index)\n",
        "        plt.title(i)\n",
        "        plotnum+=1\n",
        "    plt.show(block=False)"
      ]
    },
    {
      "cell_type": "code",
      "source": [
        "bar_plt(attrition_df)"
      ],
      "metadata": {
        "colab": {
          "base_uri": "https://localhost:8080/",
          "height": 484
        },
        "id": "8_SSRfXoKKxq",
        "outputId": "fd7e679f-a325-47f6-a585-706bb64468c0"
      },
      "id": "8_SSRfXoKKxq",
      "execution_count": null,
      "outputs": [
        {
          "output_type": "display_data",
          "data": {
            "text/plain": [
              "<Figure size 2520x3240 with 9 Axes>"
            ],
            "image/png": "[encoded data removed]"
          },
          "metadata": {}
        }
      ]
    },
    {
      "cell_type": "code",
      "execution_count": null,
      "id": "022aba5e",
      "metadata": {
        "execution": {
          "iopub.execute_input": "2022-02-07T17:39:28.628202Z",
          "iopub.status.busy": "2022-02-07T17:39:28.627274Z",
          "iopub.status.idle": "2022-02-07T17:39:28.833525Z",
          "shell.execute_reply": "2022-02-07T17:39:28.834018Z",
          "shell.execute_reply.started": "2022-02-07T17:34:33.042400Z"
        },
        "papermill": {
          "duration": 0.250284,
          "end_time": "2022-02-07T17:39:28.834184",
          "exception": false,
          "start_time": "2022-02-07T17:39:28.583900",
          "status": "completed"
        },
        "tags": [],
        "colab": {
          "base_uri": "https://localhost:8080/",
          "height": 356
        },
        "id": "022aba5e",
        "outputId": "573dc99b-b721-4692-d31d-0c1d1255fb9f"
      },
      "outputs": [
        {
          "output_type": "display_data",
          "data": {
            "text/plain": [
              "<Figure size 504x360 with 1 Axes>"
            ],
            "image/png": "[encoded data removed]"
          },
          "metadata": {
            "needs_background": "light"
          }
        }
      ],
      "source": [
        "def plt_bar(i):\n",
        "    plt.figure(figsize=(7,5))\n",
        "    ax=sns.countplot(x=df[i], hue=\"Attrition\", data=df,palette='crest')\n",
        "    bars = ax.patches\n",
        "    half = int(len(bars)/2)\n",
        "    left_bars = bars[:half]\n",
        "    right_bars = bars[half:]\n",
        "    for left, right in zip(left_bars, right_bars):\n",
        "            height_l = left.get_height()\n",
        "            height_r = right.get_height()\n",
        "            total = height_l + height_r\n",
        "            ax.text(left.get_x() + left.get_width()/2., height_l + 10, '{0:.0%}'.format(height_l/total), ha=\"center\")\n",
        "            ax.text(right.get_x() + right.get_width()/2., height_r + 10, '{0:.0%}'.format(height_r/total), ha=\"center\")\n",
        "    plt.xticks(rotation=45)\n",
        "    plt.show()\n",
        "plt_bar('Gender')\n"
      ]
    },
    {
      "cell_type": "code",
      "execution_count": null,
      "id": "a7f07d0a",
      "metadata": {
        "execution": {
          "iopub.execute_input": "2022-02-07T17:39:28.919848Z",
          "iopub.status.busy": "2022-02-07T17:39:28.918951Z",
          "iopub.status.idle": "2022-02-07T17:39:29.515217Z",
          "shell.execute_reply": "2022-02-07T17:39:29.515747Z",
          "shell.execute_reply.started": "2022-02-07T17:34:33.219953Z"
        },
        "papermill": {
          "duration": 0.640533,
          "end_time": "2022-02-07T17:39:29.515924",
          "exception": false,
          "start_time": "2022-02-07T17:39:28.875391",
          "status": "completed"
        },
        "tags": [],
        "colab": {
          "base_uri": "https://localhost:8080/",
          "height": 806
        },
        "id": "a7f07d0a",
        "outputId": "1e6b302d-9324-4736-a71e-ed925658fc32"
      },
      "outputs": [
        {
          "output_type": "display_data",
          "data": {
            "text/plain": [
              "<Figure size 504x360 with 1 Axes>"
            ],
            "image/png": "[encoded data removed]"
          },
          "metadata": {
            "needs_background": "light"
          }
        },
        {
          "output_type": "display_data",
          "data": {
            "text/plain": [
              "<Figure size 504x360 with 1 Axes>"
            ],
            "image/png": "[encoded data removed]"
          },
          "metadata": {
            "needs_background": "light"
          }
        }
      ],
      "source": [
        "plt_bar('JobRole')\n",
        "plt_bar('EducationField')"
      ]
    },
    {
      "cell_type": "code",
      "execution_count": null,
      "id": "069b59dd",
      "metadata": {
        "execution": {
          "iopub.execute_input": "2022-02-07T17:39:29.618243Z",
          "iopub.status.busy": "2022-02-07T17:39:29.616338Z",
          "iopub.status.idle": "2022-02-07T17:39:29.935644Z",
          "shell.execute_reply": "2022-02-07T17:39:29.936097Z",
          "shell.execute_reply.started": "2022-02-07T17:34:33.694163Z"
        },
        "papermill": {
          "duration": 0.375767,
          "end_time": "2022-02-07T17:39:29.936269",
          "exception": false,
          "start_time": "2022-02-07T17:39:29.560502",
          "status": "completed"
        },
        "tags": [],
        "colab": {
          "base_uri": "https://localhost:8080/",
          "height": 738
        },
        "id": "069b59dd",
        "outputId": "c4484391-b60e-41eb-cb57-82f417d938b9"
      },
      "outputs": [
        {
          "output_type": "display_data",
          "data": {
            "text/plain": [
              "<Figure size 504x360 with 1 Axes>"
            ],
            "image/png": "[encoded data removed]"
          },
          "metadata": {
            "needs_background": "light"
          }
        },
        {
          "output_type": "display_data",
          "data": {
            "text/plain": [
              "<Figure size 504x360 with 1 Axes>"
            ],
            "image/png": "[encoded data removed]"
          },
          "metadata": {
            "needs_background": "light"
          }
        }
      ],
      "source": [
        "plt_bar('MaritalStatus')\n",
        "plt_bar('BusinessTravel')"
      ]
    },
    {
      "cell_type": "code",
      "execution_count": null,
      "id": "709e94a5",
      "metadata": {
        "execution": {
          "iopub.execute_input": "2022-02-07T17:39:30.040222Z",
          "iopub.status.busy": "2022-02-07T17:39:30.038161Z",
          "iopub.status.idle": "2022-02-07T17:39:30.390789Z",
          "shell.execute_reply": "2022-02-07T17:39:30.390216Z",
          "shell.execute_reply.started": "2022-02-07T17:34:34.062101Z"
        },
        "papermill": {
          "duration": 0.409224,
          "end_time": "2022-02-07T17:39:30.390961",
          "exception": false,
          "start_time": "2022-02-07T17:39:29.981737",
          "status": "completed"
        },
        "tags": [],
        "colab": {
          "base_uri": "https://localhost:8080/",
          "height": 745
        },
        "id": "709e94a5",
        "outputId": "84b40720-8be4-4044-f2db-a3d9b6ff6bea"
      },
      "outputs": [
        {
          "output_type": "display_data",
          "data": {
            "text/plain": [
              "<Figure size 504x360 with 1 Axes>"
            ],
            "image/png": "[encoded data removed]"
          },
          "metadata": {
            "needs_background": "light"
          }
        },
        {
          "output_type": "display_data",
          "data": {
            "text/plain": [
              "<Figure size 504x360 with 1 Axes>"
            ],
            "image/png": "[encoded data removed]"
          },
          "metadata": {
            "needs_background": "light"
          }
        }
      ],
      "source": [
        "plt_bar('OverTime')\n",
        "plt_bar('Department')"
      ]
    },
    {
      "cell_type": "markdown",
      "id": "ed261600",
      "metadata": {
        "papermill": {
          "duration": 0.046898,
          "end_time": "2022-02-07T17:39:30.484512",
          "exception": false,
          "start_time": "2022-02-07T17:39:30.437614",
          "status": "completed"
        },
        "tags": [],
        "id": "ed261600"
      },
      "source": [
        "### Features and their unique values"
      ]
    },
    {
      "cell_type": "code",
      "execution_count": null,
      "id": "cb40bc92",
      "metadata": {
        "execution": {
          "iopub.execute_input": "2022-02-07T17:39:30.588810Z",
          "iopub.status.busy": "2022-02-07T17:39:30.588103Z",
          "iopub.status.idle": "2022-02-07T17:39:30.613361Z",
          "shell.execute_reply": "2022-02-07T17:39:30.612711Z",
          "shell.execute_reply.started": "2022-02-07T17:34:34.413501Z"
        },
        "papermill": {
          "duration": 0.082049,
          "end_time": "2022-02-07T17:39:30.613506",
          "exception": false,
          "start_time": "2022-02-07T17:39:30.531457",
          "status": "completed"
        },
        "tags": [],
        "colab": {
          "base_uri": "https://localhost:8080/"
        },
        "id": "cb40bc92",
        "outputId": "06112d23-4e92-4226-c3c6-5bdc8c18aea1"
      },
      "outputs": [
        {
          "output_type": "stream",
          "name": "stdout",
          "text": [
            "Attrition : ['Yes' 'No']\n",
            "No     1233\n",
            "Yes     237\n",
            "Name: Attrition, dtype: int64\n",
            "_________________________________________________________________\n",
            "BusinessTravel : ['Travel_Rarely' 'Travel_Frequently' 'Non-Travel']\n",
            "Travel_Rarely        1043\n",
            "Travel_Frequently     277\n",
            "Non-Travel            150\n",
            "Name: BusinessTravel, dtype: int64\n",
            "_________________________________________________________________\n",
            "Department : ['Sales' 'Research & Development' 'Human Resources']\n",
            "Research & Development    961\n",
            "Sales                     446\n",
            "Human Resources            63\n",
            "Name: Department, dtype: int64\n",
            "_________________________________________________________________\n",
            "EducationField : ['Life Sciences' 'Other' 'Medical' 'Marketing' 'Technical Degree'\n",
            " 'Human Resources']\n",
            "Life Sciences       606\n",
            "Medical             464\n",
            "Marketing           159\n",
            "Technical Degree    132\n",
            "Other                82\n",
            "Human Resources      27\n",
            "Name: EducationField, dtype: int64\n",
            "_________________________________________________________________\n",
            "Gender : ['Female' 'Male']\n",
            "Male      882\n",
            "Female    588\n",
            "Name: Gender, dtype: int64\n",
            "_________________________________________________________________\n",
            "JobRole : ['Sales Executive' 'Research Scientist' 'Laboratory Technician'\n",
            " 'Manufacturing Director' 'Healthcare Representative' 'Manager'\n",
            " 'Sales Representative' 'Research Director' 'Human Resources']\n",
            "Sales Executive              326\n",
            "Research Scientist           292\n",
            "Laboratory Technician        259\n",
            "Manufacturing Director       145\n",
            "Healthcare Representative    131\n",
            "Manager                      102\n",
            "Sales Representative          83\n",
            "Research Director             80\n",
            "Human Resources               52\n",
            "Name: JobRole, dtype: int64\n",
            "_________________________________________________________________\n",
            "MaritalStatus : ['Single' 'Married' 'Divorced']\n",
            "Married     673\n",
            "Single      470\n",
            "Divorced    327\n",
            "Name: MaritalStatus, dtype: int64\n",
            "_________________________________________________________________\n",
            "Over18 : ['Y']\n",
            "Y    1470\n",
            "Name: Over18, dtype: int64\n",
            "_________________________________________________________________\n",
            "OverTime : ['Yes' 'No']\n",
            "No     1054\n",
            "Yes     416\n",
            "Name: OverTime, dtype: int64\n",
            "_________________________________________________________________\n"
          ]
        }
      ],
      "source": [
        "for column in df.columns:\n",
        "    if df[column].dtype == object:\n",
        "        print(str(column) + ' : ' + str(df[column].unique()))\n",
        "        print(df[column].value_counts())\n",
        "        print(\"_________________________________________________________________\")"
      ]
    },
    {
      "cell_type": "code",
      "execution_count": null,
      "id": "2b50916c",
      "metadata": {
        "execution": {
          "iopub.execute_input": "2022-02-07T17:39:30.714094Z",
          "iopub.status.busy": "2022-02-07T17:39:30.713175Z",
          "iopub.status.idle": "2022-02-07T17:39:30.715401Z",
          "shell.execute_reply": "2022-02-07T17:39:30.715854Z",
          "shell.execute_reply.started": "2022-02-07T17:34:34.440021Z"
        },
        "papermill": {
          "duration": 0.055531,
          "end_time": "2022-02-07T17:39:30.716050",
          "exception": false,
          "start_time": "2022-02-07T17:39:30.660519",
          "status": "completed"
        },
        "tags": [],
        "id": "2b50916c"
      },
      "outputs": [],
      "source": [
        "#droping some of the unwanted columns\n",
        "df=df.drop(['EmployeeCount','EmployeeNumber','StandardHours','Over18'], axis=1)"
      ]
    },
    {
      "cell_type": "code",
      "execution_count": null,
      "id": "d1c75d91",
      "metadata": {
        "execution": {
          "iopub.execute_input": "2022-02-07T17:39:30.819148Z",
          "iopub.status.busy": "2022-02-07T17:39:30.818494Z",
          "iopub.status.idle": "2022-02-07T17:39:33.423902Z",
          "shell.execute_reply": "2022-02-07T17:39:33.424412Z",
          "shell.execute_reply.started": "2022-02-07T17:34:34.448635Z"
        },
        "papermill": {
          "duration": 2.66015,
          "end_time": "2022-02-07T17:39:33.424587",
          "exception": false,
          "start_time": "2022-02-07T17:39:30.764437",
          "status": "completed"
        },
        "scrolled": true,
        "tags": [],
        "colab": {
          "base_uri": "https://localhost:8080/",
          "height": 1000
        },
        "id": "d1c75d91",
        "outputId": "db0691a9-a9e4-4b8e-b407-a71eed4def73"
      },
      "outputs": [
        {
          "output_type": "display_data",
          "data": {
            "text/plain": [
              "<Figure size 1800x1440 with 2 Axes>"
            ],
            "image/png": "[encoded data removed]"
          },
          "metadata": {
            "needs_background": "light"
          }
        }
      ],
      "source": [
        "plt.figure(figsize=(25,20))\n",
        "sns.heatmap(df.corr(),annot=True,cmap='YlGnBu')\n",
        "plt.show()"
      ]
    },
    {
      "cell_type": "markdown",
      "id": "02a4896c",
      "metadata": {
        "papermill": {
          "duration": 0.055476,
          "end_time": "2022-02-07T17:39:33.536402",
          "exception": false,
          "start_time": "2022-02-07T17:39:33.480926",
          "status": "completed"
        },
        "tags": [],
        "id": "02a4896c"
      },
      "source": [
        "#### Number of Attrition : Out of 1470 nos. of employee 237 Employees left the Job and are the reason of attrition employees"
      ]
    },
    {
      "cell_type": "markdown",
      "id": "23776a1b",
      "metadata": {
        "papermill": {
          "duration": 0.055896,
          "end_time": "2022-02-07T17:39:33.647865",
          "exception": false,
          "start_time": "2022-02-07T17:39:33.591969",
          "status": "completed"
        },
        "tags": [],
        "id": "23776a1b"
      },
      "source": [
        "Cleary dat we have got is unbalanced to make prediction, hence we have to consider it at the time of model prediction and creating Model Training and Model Testing"
      ]
    },
    {
      "cell_type": "markdown",
      "id": "310212da",
      "metadata": {
        "papermill": {
          "duration": 0.054833,
          "end_time": "2022-02-07T17:39:33.757719",
          "exception": false,
          "start_time": "2022-02-07T17:39:33.702886",
          "status": "completed"
        },
        "tags": [],
        "id": "310212da"
      },
      "source": [
        "### Feature Engineering\n",
        "\n",
        "The numeric and categorical fields need to be treated separately and the target field needs to be separated from the training dataset. The following few steps separate the numeric and categorical fields and drops the target field 'Attrition' from the feature set."
      ]
    },
    {
      "cell_type": "code",
      "execution_count": null,
      "id": "187abc0a",
      "metadata": {
        "execution": {
          "iopub.execute_input": "2022-02-07T17:39:33.877264Z",
          "iopub.status.busy": "2022-02-07T17:39:33.876240Z",
          "iopub.status.idle": "2022-02-07T17:39:33.882522Z",
          "shell.execute_reply": "2022-02-07T17:39:33.883131Z",
          "shell.execute_reply.started": "2022-02-07T17:34:36.665157Z"
        },
        "papermill": {
          "duration": 0.069183,
          "end_time": "2022-02-07T17:39:33.883314",
          "exception": false,
          "start_time": "2022-02-07T17:39:33.814131",
          "status": "completed"
        },
        "tags": [],
        "colab": {
          "base_uri": "https://localhost:8080/"
        },
        "id": "187abc0a",
        "outputId": "b60d053e-e384-40d9-9a94-68b89a796510"
      },
      "outputs": [
        {
          "output_type": "stream",
          "name": "stdout",
          "text": [
            "Shape of Numeric:  (1470, 23)\n",
            "Shape of Categorical:  (1470, 8)\n"
          ]
        }
      ],
      "source": [
        "#Extracting the Numeric and Categorical features\n",
        "df_num = pd.DataFrame(data = df.select_dtypes(include = ['int64']))\n",
        "df_cat = pd.DataFrame(data = df.select_dtypes(include = ['object']))\n",
        "print(\"Shape of Numeric: \",df_num.shape)\n",
        "print(\"Shape of Categorical: \",df_cat.shape)"
      ]
    },
    {
      "cell_type": "markdown",
      "id": "7771742b",
      "metadata": {
        "papermill": {
          "duration": 0.055497,
          "end_time": "2022-02-07T17:39:33.994755",
          "exception": false,
          "start_time": "2022-02-07T17:39:33.939258",
          "status": "completed"
        },
        "tags": [],
        "id": "7771742b"
      },
      "source": [
        "###  Encoding Categorical Fields\n",
        "\n",
        "The categorical fields have been encoded using the get_dummies() function of Pandas.\n"
      ]
    },
    {
      "cell_type": "code",
      "execution_count": null,
      "id": "3a3b98d8",
      "metadata": {
        "execution": {
          "iopub.execute_input": "2022-02-07T17:39:34.114413Z",
          "iopub.status.busy": "2022-02-07T17:39:34.113403Z",
          "iopub.status.idle": "2022-02-07T17:39:34.137714Z",
          "shell.execute_reply": "2022-02-07T17:39:34.138197Z",
          "shell.execute_reply.started": "2022-02-07T17:34:36.676649Z"
        },
        "papermill": {
          "duration": 0.087358,
          "end_time": "2022-02-07T17:39:34.138394",
          "exception": false,
          "start_time": "2022-02-07T17:39:34.051036",
          "status": "completed"
        },
        "tags": [],
        "colab": {
          "base_uri": "https://localhost:8080/",
          "height": 287
        },
        "id": "3a3b98d8",
        "outputId": "e94dfc40-3d25-45b5-c419-3012e87f3a1c"
      },
      "outputs": [
        {
          "output_type": "execute_result",
          "data": {
            "text/plain": [
              "   BusinessTravel_Non-Travel  BusinessTravel_Travel_Frequently  \\\n",
              "0                          0                                 0   \n",
              "1                          0                                 1   \n",
              "2                          0                                 0   \n",
              "3                          0                                 1   \n",
              "4                          0                                 0   \n",
              "\n",
              "   BusinessTravel_Travel_Rarely  Department_Human Resources  \\\n",
              "0                             1                           0   \n",
              "1                             0                           0   \n",
              "2                             1                           0   \n",
              "3                             0                           0   \n",
              "4                             1                           0   \n",
              "\n",
              "   Department_Research & Development  Department_Sales  \\\n",
              "0                                  0                 1   \n",
              "1                                  1                 0   \n",
              "2                                  1                 0   \n",
              "3                                  1                 0   \n",
              "4                                  1                 0   \n",
              "\n",
              "   EducationField_Human Resources  EducationField_Life Sciences  \\\n",
              "0                               0                             1   \n",
              "1                               0                             1   \n",
              "2                               0                             0   \n",
              "3                               0                             1   \n",
              "4                               0                             0   \n",
              "\n",
              "   EducationField_Marketing  EducationField_Medical  EducationField_Other  \\\n",
              "0                         0                       0                     0   \n",
              "1                         0                       0                     0   \n",
              "2                         0                       0                     1   \n",
              "3                         0                       0                     0   \n",
              "4                         0                       1                     0   \n",
              "\n",
              "   EducationField_Technical Degree  Gender_Female  Gender_Male  \\\n",
              "0                                0              1            0   \n",
              "1                                0              0            1   \n",
              "2                                0              0            1   \n",
              "3                                0              1            0   \n",
              "4                                0              0            1   \n",
              "\n",
              "   JobRole_Healthcare Representative  JobRole_Human Resources  \\\n",
              "0                                  0                        0   \n",
              "1                                  0                        0   \n",
              "2                                  0                        0   \n",
              "3                                  0                        0   \n",
              "4                                  0                        0   \n",
              "\n",
              "   JobRole_Laboratory Technician  JobRole_Manager  \\\n",
              "0                              0                0   \n",
              "1                              0                0   \n",
              "2                              1                0   \n",
              "3                              0                0   \n",
              "4                              1                0   \n",
              "\n",
              "   JobRole_Manufacturing Director  JobRole_Research Director  \\\n",
              "0                               0                          0   \n",
              "1                               0                          0   \n",
              "2                               0                          0   \n",
              "3                               0                          0   \n",
              "4                               0                          0   \n",
              "\n",
              "   JobRole_Research Scientist  JobRole_Sales Executive  \\\n",
              "0                           0                        1   \n",
              "1                           1                        0   \n",
              "2                           0                        0   \n",
              "3                           1                        0   \n",
              "4                           0                        0   \n",
              "\n",
              "   JobRole_Sales Representative  MaritalStatus_Divorced  \\\n",
              "0                             0                       0   \n",
              "1                             0                       0   \n",
              "2                             0                       0   \n",
              "3                             0                       0   \n",
              "4                             0                       0   \n",
              "\n",
              "   MaritalStatus_Married  MaritalStatus_Single  OverTime_No  OverTime_Yes  \n",
              "0                      0                     1            0             1  \n",
              "1                      1                     0            1             0  \n",
              "2                      0                     1            0             1  \n",
              "3                      1                     0            0             1  \n",
              "4                      1                     0            1             0  "
            ],
            "text/html": [
              "\n",
              "  <div id=\"df-45cfa252-a089-4dc3-b5cb-d5afa6c83c5c\">\n",
              "    <div class=\"colab-df-container\">\n",
              "      <div>\n",
              "<style scoped>\n",
              "    .dataframe tbody tr th:only-of-type {\n",
              "        vertical-align: middle;\n",
              "    }\n",
              "\n",
              "    .dataframe tbody tr th {\n",
              "        vertical-align: top;\n",
              "    }\n",
              "\n",
              "    .dataframe thead th {\n",
              "        text-align: right;\n",
              "    }\n",
              "</style>\n",
              "<table border=\"1\" class=\"dataframe\">\n",
              "  <thead>\n",
              "    <tr style=\"text-align: right;\">\n",
              "      <th></th>\n",
              "      <th>BusinessTravel_Non-Travel</th>\n",
              "      <th>BusinessTravel_Travel_Frequently</th>\n",
              "      <th>BusinessTravel_Travel_Rarely</th>\n",
              "      <th>Department_Human Resources</th>\n",
              "      <th>Department_Research &amp; Development</th>\n",
              "      <th>Department_Sales</th>\n",
              "      <th>EducationField_Human Resources</th>\n",
              "      <th>EducationField_Life Sciences</th>\n",
              "      <th>EducationField_Marketing</th>\n",
              "      <th>EducationField_Medical</th>\n",
              "      <th>EducationField_Other</th>\n",
              "      <th>EducationField_Technical Degree</th>\n",
              "      <th>Gender_Female</th>\n",
              "      <th>Gender_Male</th>\n",
              "      <th>JobRole_Healthcare Representative</th>\n",
              "      <th>JobRole_Human Resources</th>\n",
              "      <th>JobRole_Laboratory Technician</th>\n",
              "      <th>JobRole_Manager</th>\n",
              "      <th>JobRole_Manufacturing Director</th>\n",
              "      <th>JobRole_Research Director</th>\n",
              "      <th>JobRole_Research Scientist</th>\n",
              "      <th>JobRole_Sales Executive</th>\n",
              "      <th>JobRole_Sales Representative</th>\n",
              "      <th>MaritalStatus_Divorced</th>\n",
              "      <th>MaritalStatus_Married</th>\n",
              "      <th>MaritalStatus_Single</th>\n",
              "      <th>OverTime_No</th>\n",
              "      <th>OverTime_Yes</th>\n",
              "    </tr>\n",
              "  </thead>\n",
              "  <tbody>\n",
              "    <tr>\n",
              "      <th>0</th>\n",
              "      <td>0</td>\n",
              "      <td>0</td>\n",
              "      <td>1</td>\n",
              "      <td>0</td>\n",
              "      <td>0</td>\n",
              "      <td>1</td>\n",
              "      <td>0</td>\n",
              "      <td>1</td>\n",
              "      <td>0</td>\n",
              "      <td>0</td>\n",
              "      <td>0</td>\n",
              "      <td>0</td>\n",
              "      <td>1</td>\n",
              "      <td>0</td>\n",
              "      <td>0</td>\n",
              "      <td>0</td>\n",
              "      <td>0</td>\n",
              "      <td>0</td>\n",
              "      <td>0</td>\n",
              "      <td>0</td>\n",
              "      <td>0</td>\n",
              "      <td>1</td>\n",
              "      <td>0</td>\n",
              "      <td>0</td>\n",
              "      <td>0</td>\n",
              "      <td>1</td>\n",
              "      <td>0</td>\n",
              "      <td>1</td>\n",
              "    </tr>\n",
              "    <tr>\n",
              "      <th>1</th>\n",
              "      <td>0</td>\n",
              "      <td>1</td>\n",
              "      <td>0</td>\n",
              "      <td>0</td>\n",
              "      <td>1</td>\n",
              "      <td>0</td>\n",
              "      <td>0</td>\n",
              "      <td>1</td>\n",
              "      <td>0</td>\n",
              "      <td>0</td>\n",
              "      <td>0</td>\n",
              "      <td>0</td>\n",
              "      <td>0</td>\n",
              "      <td>1</td>\n",
              "      <td>0</td>\n",
              "      <td>0</td>\n",
              "      <td>0</td>\n",
              "      <td>0</td>\n",
              "      <td>0</td>\n",
              "      <td>0</td>\n",
              "      <td>1</td>\n",
              "      <td>0</td>\n",
              "      <td>0</td>\n",
              "      <td>0</td>\n",
              "      <td>1</td>\n",
              "      <td>0</td>\n",
              "      <td>1</td>\n",
              "      <td>0</td>\n",
              "    </tr>\n",
              "    <tr>\n",
              "      <th>2</th>\n",
              "      <td>0</td>\n",
              "      <td>0</td>\n",
              "      <td>1</td>\n",
              "      <td>0</td>\n",
              "      <td>1</td>\n",
              "      <td>0</td>\n",
              "      <td>0</td>\n",
              "      <td>0</td>\n",
              "      <td>0</td>\n",
              "      <td>0</td>\n",
              "      <td>1</td>\n",
              "      <td>0</td>\n",
              "      <td>0</td>\n",
              "      <td>1</td>\n",
              "      <td>0</td>\n",
              "      <td>0</td>\n",
              "      <td>1</td>\n",
              "      <td>0</td>\n",
              "      <td>0</td>\n",
              "      <td>0</td>\n",
              "      <td>0</td>\n",
              "      <td>0</td>\n",
              "      <td>0</td>\n",
              "      <td>0</td>\n",
              "      <td>0</td>\n",
              "      <td>1</td>\n",
              "      <td>0</td>\n",
              "      <td>1</td>\n",
              "    </tr>\n",
              "    <tr>\n",
              "      <th>3</th>\n",
              "      <td>0</td>\n",
              "      <td>1</td>\n",
              "      <td>0</td>\n",
              "      <td>0</td>\n",
              "      <td>1</td>\n",
              "      <td>0</td>\n",
              "      <td>0</td>\n",
              "      <td>1</td>\n",
              "      <td>0</td>\n",
              "      <td>0</td>\n",
              "      <td>0</td>\n",
              "      <td>0</td>\n",
              "      <td>1</td>\n",
              "      <td>0</td>\n",
              "      <td>0</td>\n",
              "      <td>0</td>\n",
              "      <td>0</td>\n",
              "      <td>0</td>\n",
              "      <td>0</td>\n",
              "      <td>0</td>\n",
              "      <td>1</td>\n",
              "      <td>0</td>\n",
              "      <td>0</td>\n",
              "      <td>0</td>\n",
              "      <td>1</td>\n",
              "      <td>0</td>\n",
              "      <td>0</td>\n",
              "      <td>1</td>\n",
              "    </tr>\n",
              "    <tr>\n",
              "      <th>4</th>\n",
              "      <td>0</td>\n",
              "      <td>0</td>\n",
              "      <td>1</td>\n",
              "      <td>0</td>\n",
              "      <td>1</td>\n",
              "      <td>0</td>\n",
              "      <td>0</td>\n",
              "      <td>0</td>\n",
              "      <td>0</td>\n",
              "      <td>1</td>\n",
              "      <td>0</td>\n",
              "      <td>0</td>\n",
              "      <td>0</td>\n",
              "      <td>1</td>\n",
              "      <td>0</td>\n",
              "      <td>0</td>\n",
              "      <td>1</td>\n",
              "      <td>0</td>\n",
              "      <td>0</td>\n",
              "      <td>0</td>\n",
              "      <td>0</td>\n",
              "      <td>0</td>\n",
              "      <td>0</td>\n",
              "      <td>0</td>\n",
              "      <td>1</td>\n",
              "      <td>0</td>\n",
              "      <td>1</td>\n",
              "      <td>0</td>\n",
              "    </tr>\n",
              "  </tbody>\n",
              "</table>\n",
              "</div>\n",
              "      <button class=\"colab-df-convert\" onclick=\"convertToInteractive('df-45cfa252-a089-4dc3-b5cb-d5afa6c83c5c')\"\n",
              "              title=\"Convert this dataframe to an interactive table.\"\n",
              "              style=\"display:none;\">\n",
              "        \n",
              "  <svg xmlns=\"http://www.w3.org/2000/svg\" height=\"24px\"viewBox=\"0 0 24 24\"\n",
              "       width=\"24px\">\n",
              "    <path d=\"M0 0h24v24H0V0z\" fill=\"none\"/>\n",
              "    <path d=\"M18.56 5.44l.94 2.06.94-2.06 2.06-.94-2.06-.94-.94-2.06-.94 2.06-2.06.94zm-11 1L8.5 8.5l.94-2.06 2.06-.94-2.06-.94L8.5 2.5l-.94 2.06-2.06.94zm10 10l.94 2.06.94-2.06 2.06-.94-2.06-.94-.94-2.06-.94 2.06-2.06.94z\"/><path d=\"M17.41 7.96l-1.37-1.37c-.4-.4-.92-.59-1.43-.59-.52 0-1.04.2-1.43.59L10.3 9.45l-7.72 7.72c-.78.78-.78 2.05 0 2.83L4 21.41c.39.39.9.59 1.41.59.51 0 1.02-.2 1.41-.59l7.78-7.78 2.81-2.81c.8-.78.8-2.07 0-2.86zM5.41 20L4 18.59l7.72-7.72 1.47 1.35L5.41 20z\"/>\n",
              "  </svg>\n",
              "      </button>\n",
              "      \n",
              "  <style>\n",
              "    .colab-df-container {\n",
              "      display:flex;\n",
              "      flex-wrap:wrap;\n",
              "      gap: 12px;\n",
              "    }\n",
              "\n",
              "    .colab-df-convert {\n",
              "      background-color: #E8F0FE;\n",
              "      border: none;\n",
              "      border-radius: 50%;\n",
              "      cursor: pointer;\n",
              "      display: none;\n",
              "      fill: #1967D2;\n",
              "      height: 32px;\n",
              "      padding: 0 0 0 0;\n",
              "      width: 32px;\n",
              "    }\n",
              "\n",
              "    .colab-df-convert:hover {\n",
              "      background-color: #E2EBFA;\n",
              "      box-shadow: 0px 1px 2px rgba(60, 64, 67, 0.3), 0px 1px 3px 1px rgba(60, 64, 67, 0.15);\n",
              "      fill: #174EA6;\n",
              "    }\n",
              "\n",
              "    [theme=dark] .colab-df-convert {\n",
              "      background-color: #3B4455;\n",
              "      fill: #D2E3FC;\n",
              "    }\n",
              "\n",
              "    [theme=dark] .colab-df-convert:hover {\n",
              "      background-color: #434B5C;\n",
              "      box-shadow: 0px 1px 3px 1px rgba(0, 0, 0, 0.15);\n",
              "      filter: drop-shadow(0px 1px 2px rgba(0, 0, 0, 0.3));\n",
              "      fill: #FFFFFF;\n",
              "    }\n",
              "  </style>\n",
              "\n",
              "      <script>\n",
              "        const buttonEl =\n",
              "          document.querySelector('#df-45cfa252-a089-4dc3-b5cb-d5afa6c83c5c button.colab-df-convert');\n",
              "        buttonEl.style.display =\n",
              "          google.colab.kernel.accessAllowed ? 'block' : 'none';\n",
              "\n",
              "        async function convertToInteractive(key) {\n",
              "          const element = document.querySelector('#df-45cfa252-a089-4dc3-b5cb-d5afa6c83c5c');\n",
              "          const dataTable =\n",
              "            await google.colab.kernel.invokeFunction('convertToInteractive',\n",
              "                                                     [key], {});\n",
              "          if (!dataTable) return;\n",
              "\n",
              "          const docLinkHtml = 'Like what you see? Visit the ' +\n",
              "            '<a target=\"_blank\" href=https://colab.research.google.com/notebooks/data_table.ipynb>data table notebook</a>'\n",
              "            + ' to learn more about interactive tables.';\n",
              "          element.innerHTML = '';\n",
              "          dataTable['output_type'] = 'display_data';\n",
              "          await google.colab.output.renderOutput(dataTable, element);\n",
              "          const docLink = document.createElement('div');\n",
              "          docLink.innerHTML = docLinkHtml;\n",
              "          element.appendChild(docLink);\n",
              "        }\n",
              "      </script>\n",
              "    </div>\n",
              "  </div>\n",
              "  "
            ]
          },
          "metadata": {},
          "execution_count": 20
        }
      ],
      "source": [
        "#Dropping 'Attrition' from df_cat before encoding\n",
        "df_cat = df_cat.drop(['Attrition'], axis=1) \n",
        "\n",
        "#Encoding using Pandas' get_dummies\n",
        "df_cat_encoded = pd.get_dummies(df_cat)\n",
        "df_cat_encoded.head(5)"
      ]
    },
    {
      "cell_type": "markdown",
      "id": "ca99c63f",
      "metadata": {
        "papermill": {
          "duration": 0.055148,
          "end_time": "2022-02-07T17:39:34.250067",
          "exception": false,
          "start_time": "2022-02-07T17:39:34.194919",
          "status": "completed"
        },
        "tags": [],
        "id": "ca99c63f"
      },
      "source": [
        "### Scaling Numeric Fields\n",
        "\n",
        "The numeric fields have been scaled next for best results. StandardScaler() has been used for the same. Post scaling of the numeric features, they are merged with the categorical ones.\n"
      ]
    },
    {
      "cell_type": "code",
      "execution_count": null,
      "id": "c50fefdd",
      "metadata": {
        "execution": {
          "iopub.execute_input": "2022-02-07T17:39:34.370906Z",
          "iopub.status.busy": "2022-02-07T17:39:34.370132Z",
          "iopub.status.idle": "2022-02-07T17:39:34.385545Z",
          "shell.execute_reply": "2022-02-07T17:39:34.384705Z",
          "shell.execute_reply.started": "2022-02-07T17:34:36.715595Z"
        },
        "papermill": {
          "duration": 0.078751,
          "end_time": "2022-02-07T17:39:34.385724",
          "exception": false,
          "start_time": "2022-02-07T17:39:34.306973",
          "status": "completed"
        },
        "tags": [],
        "colab": {
          "base_uri": "https://localhost:8080/"
        },
        "id": "c50fefdd",
        "outputId": "c2630ae9-adc9-4eba-a1d9-e162453e1628"
      },
      "outputs": [
        {
          "output_type": "stream",
          "name": "stdout",
          "text": [
            "Shape of Numeric After Scaling:  (1470, 23)\n",
            "Shape of categorical after Encoding:  (1470, 28)\n"
          ]
        }
      ],
      "source": [
        "#Using StandardScaler to scale the numeric features\n",
        "standard_scaler = StandardScaler()\n",
        "df_num_scaled = standard_scaler.fit_transform(df_num)\n",
        "df_num_scaled = pd.DataFrame(data = df_num_scaled, columns = df_num.columns, index = df_num.index)\n",
        "print(\"Shape of Numeric After Scaling: \",df_num_scaled.shape)\n",
        "print(\"Shape of categorical after Encoding: \",df_cat_encoded.shape)"
      ]
    },
    {
      "cell_type": "code",
      "execution_count": null,
      "id": "e3eaf75a",
      "metadata": {
        "execution": {
          "iopub.execute_input": "2022-02-07T17:39:34.521065Z",
          "iopub.status.busy": "2022-02-07T17:39:34.520469Z",
          "iopub.status.idle": "2022-02-07T17:39:34.526663Z",
          "shell.execute_reply": "2022-02-07T17:39:34.527586Z",
          "shell.execute_reply.started": "2022-02-07T17:34:36.727990Z"
        },
        "papermill": {
          "duration": 0.069935,
          "end_time": "2022-02-07T17:39:34.527868",
          "exception": false,
          "start_time": "2022-02-07T17:39:34.457933",
          "status": "completed"
        },
        "tags": [],
        "colab": {
          "base_uri": "https://localhost:8080/"
        },
        "id": "e3eaf75a",
        "outputId": "abcecfcc-42ef-4248-ec44-f7910ab9f4a3"
      },
      "outputs": [
        {
          "output_type": "stream",
          "name": "stdout",
          "text": [
            "Shape of final dataframe:  (1470, 51)\n"
          ]
        }
      ],
      "source": [
        "#Combining the Categorical and Numeric features\n",
        "df_transformed_final = pd.concat([df_num_scaled,df_cat_encoded], axis = 1)\n",
        "print(\"Shape of final dataframe: \",df_transformed_final.shape)"
      ]
    },
    {
      "cell_type": "code",
      "execution_count": null,
      "id": "d8ef4f75",
      "metadata": {
        "execution": {
          "iopub.execute_input": "2022-02-07T17:39:34.649089Z",
          "iopub.status.busy": "2022-02-07T17:39:34.648458Z",
          "iopub.status.idle": "2022-02-07T17:39:34.655885Z",
          "shell.execute_reply": "2022-02-07T17:39:34.655272Z",
          "shell.execute_reply.started": "2022-02-07T17:34:36.738484Z"
        },
        "papermill": {
          "duration": 0.068294,
          "end_time": "2022-02-07T17:39:34.656012",
          "exception": false,
          "start_time": "2022-02-07T17:39:34.587718",
          "status": "completed"
        },
        "tags": [],
        "colab": {
          "base_uri": "https://localhost:8080/"
        },
        "id": "d8ef4f75",
        "outputId": "94ea1de3-709d-4f48-f713-fe50efdec2d7"
      },
      "outputs": [
        {
          "output_type": "stream",
          "name": "stdout",
          "text": [
            "Shape of target:  (1470,)\n"
          ]
        }
      ],
      "source": [
        "#Extracting the target variable - 'Attrition'\n",
        "target = df['Attrition']\n",
        "\n",
        "#Mapping 'Yes' to 1 and 'No' to 0\n",
        "map = {'Yes':1, 'No':0}\n",
        "target = target.apply(lambda x: map[x])\n",
        "\n",
        "print(\"Shape of target: \",target.shape)\n",
        "\n",
        "#Copying into commonly used fields for simplicity\n",
        "X = df_transformed_final #Features\n",
        "Y = target #Target"
      ]
    },
    {
      "cell_type": "markdown",
      "id": "25968f2f",
      "metadata": {
        "papermill": {
          "duration": 0.05781,
          "end_time": "2022-02-07T17:39:34.771595",
          "exception": false,
          "start_time": "2022-02-07T17:39:34.713785",
          "status": "completed"
        },
        "tags": [],
        "id": "25968f2f"
      },
      "source": [
        "#### Spliting data for Model Training and Testing"
      ]
    },
    {
      "cell_type": "code",
      "execution_count": null,
      "id": "6ed815ce",
      "metadata": {
        "execution": {
          "iopub.execute_input": "2022-02-07T17:39:34.893033Z",
          "iopub.status.busy": "2022-02-07T17:39:34.892406Z",
          "iopub.status.idle": "2022-02-07T17:39:34.901482Z",
          "shell.execute_reply": "2022-02-07T17:39:34.902022Z",
          "shell.execute_reply.started": "2022-02-07T17:34:36.752358Z"
        },
        "papermill": {
          "duration": 0.070439,
          "end_time": "2022-02-07T17:39:34.902184",
          "exception": false,
          "start_time": "2022-02-07T17:39:34.831745",
          "status": "completed"
        },
        "tags": [],
        "colab": {
          "base_uri": "https://localhost:8080/"
        },
        "id": "6ed815ce",
        "outputId": "8b507a42-f60e-4336-d335-8f2f8374520b"
      },
      "outputs": [
        {
          "output_type": "stream",
          "name": "stdout",
          "text": [
            "Shape of Train Dataset:  (1176, 51)\n",
            "Shape of Test Dataset:  (294, 51)\n"
          ]
        }
      ],
      "source": [
        "x_train, x_test, y_train, y_test = train_test_split(X, Y, test_size=0.2, stratify=Y,random_state=50)\n",
        "print(\"Shape of Train Dataset: \",x_train.shape)\n",
        "print(\"Shape of Test Dataset: \",x_test.shape)\n"
      ]
    },
    {
      "cell_type": "code",
      "execution_count": null,
      "id": "77eccccb",
      "metadata": {
        "execution": {
          "iopub.execute_input": "2022-02-07T17:39:35.024076Z",
          "iopub.status.busy": "2022-02-07T17:39:35.023450Z",
          "iopub.status.idle": "2022-02-07T17:39:35.150743Z",
          "shell.execute_reply": "2022-02-07T17:39:35.149368Z",
          "shell.execute_reply.started": "2022-02-07T17:34:36.769162Z"
        },
        "papermill": {
          "duration": 0.188081,
          "end_time": "2022-02-07T17:39:35.150981",
          "exception": false,
          "start_time": "2022-02-07T17:39:34.962900",
          "status": "completed"
        },
        "tags": [],
        "colab": {
          "base_uri": "https://localhost:8080/",
          "height": 317
        },
        "id": "77eccccb",
        "outputId": "35b426a5-698a-4a0e-c996-341db639d1c5"
      },
      "outputs": [
        {
          "output_type": "stream",
          "name": "stdout",
          "text": [
            "******Count of attrition and no_attrition employee in Train Dataset:******\n",
            "\n",
            "83.84353518486023\n",
            "16.15646332502365\n"
          ]
        },
        {
          "output_type": "display_data",
          "data": {
            "text/plain": [
              "<Figure size 432x288 with 1 Axes>"
            ],
            "image/png": "[encoded data removed]"
          },
          "metadata": {}
        }
      ],
      "source": [
        "print('******Count of attrition and no_attrition employee in Train Dataset:******\\n')\n",
        "def per_val(x):\n",
        "    print(x)\n",
        "    return '{:.2f}%\\n({:.0f})'.format(x, total*x/100)\n",
        "\n",
        "v_counts = y_train.value_counts()\n",
        "total = len(df['Attrition'])\n",
        "fig = plt.figure()\n",
        "plt.pie(v_counts, labels=v_counts.index, autopct=per_val, shadow=True);"
      ]
    },
    {
      "cell_type": "code",
      "execution_count": null,
      "id": "0afe0c33",
      "metadata": {
        "execution": {
          "iopub.execute_input": "2022-02-07T17:39:35.314599Z",
          "iopub.status.busy": "2022-02-07T17:39:35.313972Z",
          "iopub.status.idle": "2022-02-07T17:39:35.611836Z",
          "shell.execute_reply": "2022-02-07T17:39:35.610940Z",
          "shell.execute_reply.started": "2022-02-07T17:34:36.887764Z"
        },
        "papermill": {
          "duration": 0.36008,
          "end_time": "2022-02-07T17:39:35.612068",
          "exception": false,
          "start_time": "2022-02-07T17:39:35.251988",
          "status": "completed"
        },
        "tags": [],
        "colab": {
          "base_uri": "https://localhost:8080/",
          "height": 317
        },
        "id": "0afe0c33",
        "outputId": "e6bcb468-c0a9-4ae6-884d-1b8c729297dc"
      },
      "outputs": [
        {
          "output_type": "stream",
          "name": "stdout",
          "text": [
            "******Count of attrition and no_attrition employee in Test Dataset:******\n",
            "\n",
            "84.01360511779785\n",
            "15.986394882202148\n"
          ]
        },
        {
          "output_type": "display_data",
          "data": {
            "text/plain": [
              "<Figure size 432x288 with 1 Axes>"
            ],
            "image/png": "[encoded data removed]"
          },
          "metadata": {}
        }
      ],
      "source": [
        "print(\"******Count of attrition and no_attrition employee in Test Dataset:******\\n\")\n",
        "def per_val(x):\n",
        "    print(x)\n",
        "    return '{:.2f}%\\n({:.0f})'.format(x, total*x/100)\n",
        "\n",
        "v_counts = y_test.value_counts()\n",
        "total = len(df['Attrition'])\n",
        "fig = plt.figure()\n",
        "plt.pie(v_counts, labels=v_counts.index, autopct=per_val, shadow=True);"
      ]
    },
    {
      "cell_type": "markdown",
      "id": "8227ea59",
      "metadata": {
        "papermill": {
          "duration": 0.060534,
          "end_time": "2022-02-07T17:39:35.774267",
          "exception": false,
          "start_time": "2022-02-07T17:39:35.713733",
          "status": "completed"
        },
        "tags": [],
        "id": "8227ea59"
      },
      "source": [
        "#### Creating few Functions for further Evaluation "
      ]
    },
    {
      "cell_type": "code",
      "execution_count": null,
      "id": "512b90ee",
      "metadata": {
        "execution": {
          "iopub.execute_input": "2022-02-07T17:39:35.897503Z",
          "iopub.status.busy": "2022-02-07T17:39:35.896886Z",
          "iopub.status.idle": "2022-02-07T17:39:35.909956Z",
          "shell.execute_reply": "2022-02-07T17:39:35.910490Z",
          "shell.execute_reply.started": "2022-02-07T17:34:37.225350Z"
        },
        "papermill": {
          "duration": 0.076249,
          "end_time": "2022-02-07T17:39:35.910646",
          "exception": false,
          "start_time": "2022-02-07T17:39:35.834397",
          "status": "completed"
        },
        "tags": [],
        "id": "512b90ee"
      },
      "outputs": [],
      "source": [
        "def plot_confusion_matrix(cm,target_names,title='Confusion matrix',cmap=None,normalize=True):\n",
        "        import matplotlib.pyplot as plt\n",
        "        import numpy as np\n",
        "        import itertools\n",
        "        accuracy = np.trace(cm) / np.sum(cm).astype('float')\n",
        "        misclass = 1 - accuracy\n",
        "        if cmap is None:\n",
        "            cmap = plt.get_cmap('Blues')\n",
        "        plt.figure(figsize=(8, 6))\n",
        "        plt.imshow(cm, interpolation='nearest', cmap=cmap)\n",
        "        plt.title(title)\n",
        "        plt.colorbar()\n",
        "\n",
        "        if target_names is not None:\n",
        "            tick_marks = np.arange(len(target_names))\n",
        "            plt.xticks(tick_marks, target_names, rotation=45)\n",
        "            plt.yticks(tick_marks, target_names)\n",
        "\n",
        "        if normalize:\n",
        "            cm = cm.astype('float') / cm.sum(axis=1)[:, np.newaxis]\n",
        "\n",
        "        thresh = cm.max() / 1.5 if normalize else cm.max() / 2\n",
        "        for i, j in itertools.product(range(cm.shape[0]), range(cm.shape[1])):\n",
        "            if normalize:\n",
        "                plt.text(j, i, \"{:0.4f}\".format(cm[i, j]),\n",
        "                         horizontalalignment=\"center\",\n",
        "                         color=\"white\" if cm[i, j] > thresh else \"black\")\n",
        "            else:\n",
        "                plt.text(j, i, \"{:,}\".format(cm[i, j]),\n",
        "                         horizontalalignment=\"center\",\n",
        "                         color=\"white\" if cm[i, j] > thresh else \"black\")\n",
        "\n",
        "\n",
        "        plt.tight_layout()\n",
        "        plt.ylabel('True label')\n",
        "        plt.xlabel('Predicted label\\naccuracy={:0.4f}; misclass={:0.4f}'.format(accuracy, misclass))\n",
        "        plt.show()\n",
        "        \n",
        "def evaluate(model, test_features, test_labels):\n",
        "    predictions = model.predict(test_features)\n",
        "    accuracy = accuracy_score(test_labels, predictions)\n",
        "    print('_________________________Model Performance_________________________\\n\\n')\n",
        "#     print('Accuracy = {:0.2f}%.'.format(accuracy * 100))\n",
        "    print(classification_report(test_labels, predictions))\n",
        "    return accuracy\n"
      ]
    },
    {
      "cell_type": "markdown",
      "id": "fdc1db1d",
      "metadata": {
        "papermill": {
          "duration": 0.060518,
          "end_time": "2022-02-07T17:39:36.031762",
          "exception": false,
          "start_time": "2022-02-07T17:39:35.971244",
          "status": "completed"
        },
        "tags": [],
        "id": "fdc1db1d"
      },
      "source": [
        "### Base Model"
      ]
    },
    {
      "cell_type": "code",
      "execution_count": null,
      "id": "547d7eab",
      "metadata": {
        "execution": {
          "iopub.execute_input": "2022-02-07T17:39:36.156412Z",
          "iopub.status.busy": "2022-02-07T17:39:36.155697Z",
          "iopub.status.idle": "2022-02-07T17:39:36.735537Z",
          "shell.execute_reply": "2022-02-07T17:39:36.736372Z",
          "shell.execute_reply.started": "2022-02-07T17:34:37.247624Z"
        },
        "papermill": {
          "duration": 0.644575,
          "end_time": "2022-02-07T17:39:36.736589",
          "exception": false,
          "start_time": "2022-02-07T17:39:36.092014",
          "status": "completed"
        },
        "tags": [],
        "colab": {
          "base_uri": "https://localhost:8080/",
          "height": 314
        },
        "id": "547d7eab",
        "outputId": "b0e5dabf-24d1-456a-f287-dc9ea2e88963"
      },
      "outputs": [
        {
          "output_type": "stream",
          "name": "stdout",
          "text": [
            "RF Train Model Score :85.54%.\n"
          ]
        },
        {
          "output_type": "display_data",
          "data": {
            "text/plain": [
              "<Figure size 432x288 with 1 Axes>"
            ],
            "image/png": "[encoded data removed]"
          },
          "metadata": {
            "needs_background": "light"
          }
        },
        {
          "output_type": "stream",
          "name": "stdout",
          "text": [
            "Time elapsed 0.8767707530000006\n"
          ]
        }
      ],
      "source": [
        "start = time.process_time()\n",
        "rf = RandomForestClassifier(random_state=42, oob_score=True)\n",
        "model=rf.fit(x_train, y_train)\n",
        "print(\"RF Train Model Score :{:0.2f}%.\".format( 100 * model.oob_score_))\n",
        "\n",
        "y_pred = model.predict(x_test)\n",
        "plot_roc_curve(rf, x_test, y_test)\n",
        "plt.show()\n",
        "\n",
        "print('Time elapsed {}'.format(time.process_time() - start))"
      ]
    },
    {
      "cell_type": "markdown",
      "id": "3da9a183",
      "metadata": {
        "papermill": {
          "duration": 0.062714,
          "end_time": "2022-02-07T17:39:36.862345",
          "exception": false,
          "start_time": "2022-02-07T17:39:36.799631",
          "status": "completed"
        },
        "tags": [],
        "id": "3da9a183"
      },
      "source": [
        "### Model Evaluation"
      ]
    },
    {
      "cell_type": "code",
      "execution_count": null,
      "id": "91f789be",
      "metadata": {
        "execution": {
          "iopub.execute_input": "2022-02-07T17:39:36.992619Z",
          "iopub.status.busy": "2022-02-07T17:39:36.991465Z",
          "iopub.status.idle": "2022-02-07T17:39:37.232518Z",
          "shell.execute_reply": "2022-02-07T17:39:37.233023Z",
          "shell.execute_reply.started": "2022-02-07T17:34:37.850339Z"
        },
        "papermill": {
          "duration": 0.308289,
          "end_time": "2022-02-07T17:39:37.233192",
          "exception": false,
          "start_time": "2022-02-07T17:39:36.924903",
          "status": "completed"
        },
        "tags": [],
        "colab": {
          "base_uri": "https://localhost:8080/",
          "height": 467
        },
        "id": "91f789be",
        "outputId": "3e6d265f-5a04-4899-cd63-203aeac4ea33"
      },
      "outputs": [
        {
          "output_type": "display_data",
          "data": {
            "text/plain": [
              "<Figure size 576x432 with 2 Axes>"
            ],
            "image/png": "[encoded data removed]"
          },
          "metadata": {
            "needs_background": "light"
          }
        }
      ],
      "source": [
        "labels = ['Attrition_Yes', 'Attrition_No']\n",
        "cm=confusion_matrix(y_test, y_pred)\n",
        "plot_confusion_matrix(cm,[0,1])"
      ]
    },
    {
      "cell_type": "code",
      "execution_count": null,
      "id": "ad11f37b",
      "metadata": {
        "execution": {
          "iopub.execute_input": "2022-02-07T17:39:37.368689Z",
          "iopub.status.busy": "2022-02-07T17:39:37.367991Z",
          "iopub.status.idle": "2022-02-07T17:39:37.389735Z",
          "shell.execute_reply": "2022-02-07T17:39:37.389151Z",
          "shell.execute_reply.started": "2022-02-07T17:34:38.068417Z"
        },
        "papermill": {
          "duration": 0.09247,
          "end_time": "2022-02-07T17:39:37.389873",
          "exception": false,
          "start_time": "2022-02-07T17:39:37.297403",
          "status": "completed"
        },
        "tags": [],
        "colab": {
          "base_uri": "https://localhost:8080/"
        },
        "id": "ad11f37b",
        "outputId": "98363d51-6a63-4cd6-fb05-07fae842381c"
      },
      "outputs": [
        {
          "output_type": "stream",
          "name": "stdout",
          "text": [
            "_________________________Model Performance_________________________\n",
            "\n",
            "\n",
            "              precision    recall  f1-score   support\n",
            "\n",
            "           0       0.87      1.00      0.93       247\n",
            "           1       0.91      0.21      0.34        47\n",
            "\n",
            "    accuracy                           0.87       294\n",
            "   macro avg       0.89      0.60      0.64       294\n",
            "weighted avg       0.88      0.87      0.84       294\n",
            "\n",
            "\n",
            "\n",
            "Base Model Accuracy: 87.07%.\n"
          ]
        }
      ],
      "source": [
        "base_accuracy= evaluate(model, x_test, y_test)\n",
        "print(\"\\n\\nBase Model Accuracy: {:0.2f}%.\" .format(base_accuracy * 100))"
      ]
    },
    {
      "cell_type": "markdown",
      "id": "7044c386",
      "metadata": {
        "papermill": {
          "duration": 0.063324,
          "end_time": "2022-02-07T17:39:37.516856",
          "exception": false,
          "start_time": "2022-02-07T17:39:37.453532",
          "status": "completed"
        },
        "tags": [],
        "id": "7044c386"
      },
      "source": [
        "### Hyper-parameter tuning for the Random Forest¶"
      ]
    },
    {
      "cell_type": "code",
      "execution_count": null,
      "id": "31caee4c",
      "metadata": {
        "execution": {
          "iopub.execute_input": "2022-02-07T17:39:37.646517Z",
          "iopub.status.busy": "2022-02-07T17:39:37.645913Z",
          "iopub.status.idle": "2022-02-07T17:39:51.704096Z",
          "shell.execute_reply": "2022-02-07T17:39:51.704844Z",
          "shell.execute_reply.started": "2022-02-07T17:34:38.099353Z"
        },
        "papermill": {
          "duration": 14.124679,
          "end_time": "2022-02-07T17:39:51.705070",
          "exception": false,
          "start_time": "2022-02-07T17:39:37.580391",
          "status": "completed"
        },
        "tags": [],
        "colab": {
          "base_uri": "https://localhost:8080/"
        },
        "id": "31caee4c",
        "outputId": "1af643f7-8657-4c5d-e8c6-4fafd8918ce1"
      },
      "outputs": [
        {
          "output_type": "stream",
          "name": "stdout",
          "text": [
            "Fitting 2 folds for each of 120 candidates, totalling 240 fits\n",
            "\n",
            "Best Model:  GradientBoostingClassifier(learning_rate=0.3, max_features=0.7,\n",
            "                           min_samples_leaf=20, n_estimators=15)\n",
            "\n",
            "GridSerchCV Model Score: 86.82%.\n",
            "_________________________Model Performance_________________________\n",
            "\n",
            "\n",
            "              precision    recall  f1-score   support\n",
            "\n",
            "           0       0.88      0.98      0.93       247\n",
            "           1       0.76      0.28      0.41        47\n",
            "\n",
            "    accuracy                           0.87       294\n",
            "   macro avg       0.82      0.63      0.67       294\n",
            "weighted avg       0.86      0.87      0.84       294\n",
            "\n",
            "Time elapsed 15.616130409000002\n"
          ]
        }
      ],
      "source": [
        "from sklearn.ensemble import GradientBoostingClassifier\n",
        "start = time.process_time()\n",
        "rf = GradientBoostingClassifier(max_features = 0.7, learning_rate = 0.3)\n",
        "\n",
        "params = {\n",
        "    'max_depth': [3,5,6,8,10,12],\n",
        "    'min_samples_leaf': [2,5,10,20],\n",
        "    'n_estimators': [2,5,10,15,25]\n",
        "}\n",
        "\n",
        "from sklearn.model_selection import GridSearchCV\n",
        "grid_search = GridSearchCV(estimator=rf,\n",
        "                           param_grid=params,\n",
        "                           cv =2,\n",
        "                           verbose=1, scoring=\"accuracy\")\n",
        "\n",
        "grid_model=grid_search.fit(x_train, y_train)\n",
        "rf_best = grid_search.best_estimator_\n",
        "\n",
        "print(\"\\nBest Model: \",rf_best)\n",
        "\n",
        "print(\"\\nGridSerchCV Model Score: {:0.2f}%.\" .format(grid_search.best_score_*100))\n",
        "\n",
        "grid_accuracy = evaluate(rf_best,  x_test, y_test)\n",
        "\n",
        "print('Time elapsed {}'.format(time.process_time() - start))"
      ]
    },
    {
      "cell_type": "code",
      "execution_count": null,
      "id": "b91bb5a5",
      "metadata": {
        "execution": {
          "iopub.execute_input": "2022-02-07T17:39:51.840123Z",
          "iopub.status.busy": "2022-02-07T17:39:51.839150Z",
          "iopub.status.idle": "2022-02-07T17:39:52.057657Z",
          "shell.execute_reply": "2022-02-07T17:39:52.057055Z",
          "shell.execute_reply.started": "2022-02-07T17:34:50.815205Z"
        },
        "papermill": {
          "duration": 0.286586,
          "end_time": "2022-02-07T17:39:52.057808",
          "exception": false,
          "start_time": "2022-02-07T17:39:51.771222",
          "status": "completed"
        },
        "tags": [],
        "id": "b91bb5a5"
      },
      "outputs": [],
      "source": [
        "final_model=rf_best.fit(x_train, y_train)"
      ]
    },
    {
      "cell_type": "code",
      "execution_count": null,
      "id": "c8cf17db",
      "metadata": {
        "execution": {
          "iopub.execute_input": "2022-02-07T17:39:52.192039Z",
          "iopub.status.busy": "2022-02-07T17:39:52.191056Z",
          "iopub.status.idle": "2022-02-07T17:39:52.382521Z",
          "shell.execute_reply": "2022-02-07T17:39:52.383028Z",
          "shell.execute_reply.started": "2022-02-07T17:34:51.005671Z"
        },
        "papermill": {
          "duration": 0.260003,
          "end_time": "2022-02-07T17:39:52.383195",
          "exception": false,
          "start_time": "2022-02-07T17:39:52.123192",
          "status": "completed"
        },
        "tags": [],
        "colab": {
          "base_uri": "https://localhost:8080/",
          "height": 296
        },
        "id": "c8cf17db",
        "outputId": "e6fbef1a-ee1b-4a35-ed27-c9b57d3a2b52"
      },
      "outputs": [
        {
          "output_type": "stream",
          "name": "stdout",
          "text": [
            "Improvement of 0.00%.\n"
          ]
        },
        {
          "output_type": "display_data",
          "data": {
            "text/plain": [
              "<Figure size 432x288 with 1 Axes>"
            ],
            "image/png": "[encoded data removed]"
          },
          "metadata": {
            "needs_background": "light"
          }
        }
      ],
      "source": [
        "print('Improvement of {:0.2f}%.'.format( 100 * (grid_accuracy - base_accuracy) ))\n",
        "plot_roc_curve(final_model, x_test, y_test)\n",
        "plt.show()"
      ]
    },
    {
      "cell_type": "code",
      "execution_count": null,
      "id": "17ed5751",
      "metadata": {
        "execution": {
          "iopub.execute_input": "2022-02-07T17:39:52.519911Z",
          "iopub.status.busy": "2022-02-07T17:39:52.519209Z",
          "iopub.status.idle": "2022-02-07T17:39:52.528179Z",
          "shell.execute_reply": "2022-02-07T17:39:52.528739Z",
          "shell.execute_reply.started": "2022-02-07T17:34:51.125735Z"
        },
        "papermill": {
          "duration": 0.079427,
          "end_time": "2022-02-07T17:39:52.528903",
          "exception": false,
          "start_time": "2022-02-07T17:39:52.449476",
          "status": "completed"
        },
        "tags": [],
        "colab": {
          "base_uri": "https://localhost:8080/"
        },
        "id": "17ed5751",
        "outputId": "51aae690-7d0b-4eeb-c322-65c12d457834"
      },
      "outputs": [
        {
          "output_type": "stream",
          "name": "stdout",
          "text": [
            "\n",
            "\n",
            "**-------------------Top 5 Important Features------------------**\n",
            "               Varname       Imp\n",
            "49        OverTime_No  0.150406\n",
            "0                 Age  0.078165\n",
            "9       MonthlyIncome  0.071732\n",
            "15   StockOptionLevel  0.066066\n",
            "16  TotalWorkingYears  0.061439\n",
            "1           DailyRate  0.061074\n"
          ]
        }
      ],
      "source": [
        "# Return the feature importances (the higher, the more important the feature).\n",
        "importances = pd.DataFrame({\"Varname\": x_train.columns,\"Imp\": rf_best.feature_importances_}) \n",
        "importances = importances.sort_values('Imp',ascending=False)\n",
        "importances\n",
        "print(\"\\n\\n**-------------------Top 5 Important Features------------------**\\n\",importances.head(6))"
      ]
    },
    {
      "cell_type": "code",
      "execution_count": null,
      "id": "a93a1663",
      "metadata": {
        "execution": {
          "iopub.execute_input": "2022-02-07T17:39:52.666798Z",
          "iopub.status.busy": "2022-02-07T17:39:52.666108Z",
          "iopub.status.idle": "2022-02-07T17:39:53.943675Z",
          "shell.execute_reply": "2022-02-07T17:39:53.944206Z",
          "shell.execute_reply.started": "2022-02-07T17:34:51.135534Z"
        },
        "papermill": {
          "duration": 1.348196,
          "end_time": "2022-02-07T17:39:53.944401",
          "exception": false,
          "start_time": "2022-02-07T17:39:52.596205",
          "status": "completed"
        },
        "tags": [],
        "colab": {
          "base_uri": "https://localhost:8080/",
          "height": 542
        },
        "id": "a93a1663",
        "outputId": "97f9c926-d006-40eb-c46d-fec167acffd6"
      },
      "outputs": [
        {
          "output_type": "display_data",
          "data": {
            "text/html": [
              "        <script type=\"text/javascript\">\n",
              "        window.PlotlyConfig = {MathJaxConfig: 'local'};\n",
              "        if (window.MathJax) {MathJax.Hub.Config({SVG: {font: \"STIX-Web\"}});}\n",
              "        if (typeof require !== 'undefined') {\n",
              "        require.undef(\"plotly\");\n",
              "        requirejs.config({\n",
              "            paths: {\n",
              "                'plotly': ['https://cdn.plot.ly/plotly-2.8.3.min']\n",
              "            }\n",
              "        });\n",
              "        require(['plotly'], function(Plotly) {\n",
              "            window._Plotly = Plotly;\n",
              "        });\n",
              "        }\n",
              "        </script>\n",
              "        "
            ]
          },
          "metadata": {}
        },
        {
          "output_type": "display_data",
          "data": {
            "application/vnd.plotly.v1+json": {
              "data": [
                {
                  "marker": {
                    "color": [
                      0.0781654391224557,
                      0.06107433392015423,
                      0.05035969613297547,
                      0.0030682625920916222,
                      0.04280090208417271,
                      0.0034427632378543536,
                      0.03172861344557637,
                      0.047259301738421564,
                      0.0422801247518736,
                      0.07173221318990083,
                      0.011814559549890071,
                      0.028831873899542667,
                      0.005894050865909167,
                      0,
                      0.028429759614183557,
                      0.06606604705315434,
                      0.06143862104983989,
                      0.008425646236560112,
                      0.0401094931274094,
                      0.021029332107154824,
                      0,
                      0.004091099810545472,
                      0.022910968086618112,
                      0,
                      0.0157031081330414,
                      0,
                      0,
                      0,
                      0.015769297171268667,
                      0,
                      0,
                      0.004130953903504082,
                      0,
                      0,
                      0.0043943047847826095,
                      0,
                      0,
                      0,
                      0.003268976304016722,
                      0.0116961794474903,
                      0,
                      0,
                      0,
                      0.00348409555979013,
                      0.0008412219635363933,
                      0.019819001904807496,
                      0,
                      0,
                      0.023080129161344175,
                      0.15040582589655713,
                      0.01645380415357686
                    ],
                    "colorscale": [
                      [
                        0,
                        "rgb(12,51,131)"
                      ],
                      [
                        0.25,
                        "rgb(10,136,186)"
                      ],
                      [
                        0.5,
                        "rgb(242,211,56)"
                      ],
                      [
                        0.75,
                        "rgb(242,143,56)"
                      ],
                      [
                        1,
                        "rgb(217,30,30)"
                      ]
                    ],
                    "showscale": true,
                    "size": 13,
                    "sizemode": "diameter",
                    "sizeref": 1
                  },
                  "mode": "markers",
                  "text": [
                    "Age",
                    "DailyRate",
                    "DistanceFromHome",
                    "Education",
                    "EnvironmentSatisfaction",
                    "HourlyRate",
                    "JobInvolvement",
                    "JobLevel",
                    "JobSatisfaction",
                    "MonthlyIncome",
                    "MonthlyRate",
                    "NumCompaniesWorked",
                    "PercentSalaryHike",
                    "PerformanceRating",
                    "RelationshipSatisfaction",
                    "StockOptionLevel",
                    "TotalWorkingYears",
                    "TrainingTimesLastYear",
                    "WorkLifeBalance",
                    "YearsAtCompany",
                    "YearsInCurrentRole",
                    "YearsSinceLastPromotion",
                    "YearsWithCurrManager",
                    "BusinessTravel_Non-Travel",
                    "BusinessTravel_Travel_Frequently",
                    "BusinessTravel_Travel_Rarely",
                    "Department_Human Resources",
                    "Department_Research & Development",
                    "Department_Sales",
                    "EducationField_Human Resources",
                    "EducationField_Life Sciences",
                    "EducationField_Marketing",
                    "EducationField_Medical",
                    "EducationField_Other",
                    "EducationField_Technical Degree",
                    "Gender_Female",
                    "Gender_Male",
                    "JobRole_Healthcare Representative",
                    "JobRole_Human Resources",
                    "JobRole_Laboratory Technician",
                    "JobRole_Manager",
                    "JobRole_Manufacturing Director",
                    "JobRole_Research Director",
                    "JobRole_Research Scientist",
                    "JobRole_Sales Executive",
                    "JobRole_Sales Representative",
                    "MaritalStatus_Divorced",
                    "MaritalStatus_Married",
                    "MaritalStatus_Single",
                    "OverTime_No",
                    "OverTime_Yes"
                  ],
                  "x": [
                    "Age",
                    "DailyRate",
                    "DistanceFromHome",
                    "Education",
                    "EnvironmentSatisfaction",
                    "HourlyRate",
                    "JobInvolvement",
                    "JobLevel",
                    "JobSatisfaction",
                    "MonthlyIncome",
                    "MonthlyRate",
                    "NumCompaniesWorked",
                    "PercentSalaryHike",
                    "PerformanceRating",
                    "RelationshipSatisfaction",
                    "StockOptionLevel",
                    "TotalWorkingYears",
                    "TrainingTimesLastYear",
                    "WorkLifeBalance",
                    "YearsAtCompany",
                    "YearsInCurrentRole",
                    "YearsSinceLastPromotion",
                    "YearsWithCurrManager",
                    "BusinessTravel_Non-Travel",
                    "BusinessTravel_Travel_Frequently",
                    "BusinessTravel_Travel_Rarely",
                    "Department_Human Resources",
                    "Department_Research & Development",
                    "Department_Sales",
                    "EducationField_Human Resources",
                    "EducationField_Life Sciences",
                    "EducationField_Marketing",
                    "EducationField_Medical",
                    "EducationField_Other",
                    "EducationField_Technical Degree",
                    "Gender_Female",
                    "Gender_Male",
                    "JobRole_Healthcare Representative",
                    "JobRole_Human Resources",
                    "JobRole_Laboratory Technician",
                    "JobRole_Manager",
                    "JobRole_Manufacturing Director",
                    "JobRole_Research Director",
                    "JobRole_Research Scientist",
                    "JobRole_Sales Executive",
                    "JobRole_Sales Representative",
                    "MaritalStatus_Divorced",
                    "MaritalStatus_Married",
                    "MaritalStatus_Single",
                    "OverTime_No",
                    "OverTime_Yes"
                  ],
                  "y": [
                    0.0781654391224557,
                    0.06107433392015423,
                    0.05035969613297547,
                    0.0030682625920916222,
                    0.04280090208417271,
                    0.0034427632378543536,
                    0.03172861344557637,
                    0.047259301738421564,
                    0.0422801247518736,
                    0.07173221318990083,
                    0.011814559549890071,
                    0.028831873899542667,
                    0.005894050865909167,
                    0,
                    0.028429759614183557,
                    0.06606604705315434,
                    0.06143862104983989,
                    0.008425646236560112,
                    0.0401094931274094,
                    0.021029332107154824,
                    0,
                    0.004091099810545472,
                    0.022910968086618112,
                    0,
                    0.0157031081330414,
                    0,
                    0,
                    0,
                    0.015769297171268667,
                    0,
                    0,
                    0.004130953903504082,
                    0,
                    0,
                    0.0043943047847826095,
                    0,
                    0,
                    0,
                    0.003268976304016722,
                    0.0116961794474903,
                    0,
                    0,
                    0,
                    0.00348409555979013,
                    0.0008412219635363933,
                    0.019819001904807496,
                    0,
                    0,
                    0.023080129161344175,
                    0.15040582589655713,
                    0.01645380415357686
                  ],
                  "type": "scatter"
                }
              ],
              "layout": {
                "autosize": true,
                "hovermode": "closest",
                "showlegend": false,
                "template": {
                  "data": {
                    "barpolar": [
                      {
                        "marker": {
                          "line": {
                            "color": "#E5ECF6",
                            "width": 0.5
                          },
                          "pattern": {
                            "fillmode": "overlay",
                            "size": 10,
                            "solidity": 0.2
                          }
                        },
                        "type": "barpolar"
                      }
                    ],
                    "bar": [
                      {
                        "error_x": {
                          "color": "#2a3f5f"
                        },
                        "error_y": {
                          "color": "#2a3f5f"
                        },
                        "marker": {
                          "line": {
                            "color": "#E5ECF6",
                            "width": 0.5
                          },
                          "pattern": {
                            "fillmode": "overlay",
                            "size": 10,
                            "solidity": 0.2
                          }
                        },
                        "type": "bar"
                      }
                    ],
                    "carpet": [
                      {
                        "aaxis": {
                          "endlinecolor": "#2a3f5f",
                          "gridcolor": "white",
                          "linecolor": "white",
                          "minorgridcolor": "white",
                          "startlinecolor": "#2a3f5f"
                        },
                        "baxis": {
                          "endlinecolor": "#2a3f5f",
                          "gridcolor": "white",
                          "linecolor": "white",
                          "minorgridcolor": "white",
                          "startlinecolor": "#2a3f5f"
                        },
                        "type": "carpet"
                      }
                    ],
                    "choropleth": [
                      {
                        "colorbar": {
                          "outlinewidth": 0,
                          "ticks": ""
                        },
                        "type": "choropleth"
                      }
                    ],
                    "contourcarpet": [
                      {
                        "colorbar": {
                          "outlinewidth": 0,
                          "ticks": ""
                        },
                        "type": "contourcarpet"
                      }
                    ],
                    "contour": [
                      {
                        "colorbar": {
                          "outlinewidth": 0,
                          "ticks": ""
                        },
                        "colorscale": [
                          [
                            0,
                            "#0d0887"
                          ],
                          [
                            0.1111111111111111,
                            "#46039f"
                          ],
                          [
                            0.2222222222222222,
                            "#7201a8"
                          ],
                          [
                            0.3333333333333333,
                            "#9c179e"
                          ],
                          [
                            0.4444444444444444,
                            "#bd3786"
                          ],
                          [
                            0.5555555555555556,
                            "#d8576b"
                          ],
                          [
                            0.6666666666666666,
                            "#ed7953"
                          ],
                          [
                            0.7777777777777778,
                            "#fb9f3a"
                          ],
                          [
                            0.8888888888888888,
                            "#fdca26"
                          ],
                          [
                            1,
                            "#f0f921"
                          ]
                        ],
                        "type": "contour"
                      }
                    ],
                    "heatmapgl": [
                      {
                        "colorbar": {
                          "outlinewidth": 0,
                          "ticks": ""
                        },
                        "colorscale": [
                          [
                            0,
                            "#0d0887"
                          ],
                          [
                            0.1111111111111111,
                            "#46039f"
                          ],
                          [
                            0.2222222222222222,
                            "#7201a8"
                          ],
                          [
                            0.3333333333333333,
                            "#9c179e"
                          ],
                          [
                            0.4444444444444444,
                            "#bd3786"
                          ],
                          [
                            0.5555555555555556,
                            "#d8576b"
                          ],
                          [
                            0.6666666666666666,
                            "#ed7953"
                          ],
                          [
                            0.7777777777777778,
                            "#fb9f3a"
                          ],
                          [
                            0.8888888888888888,
                            "#fdca26"
                          ],
                          [
                            1,
                            "#f0f921"
                          ]
                        ],
                        "type": "heatmapgl"
                      }
                    ],
                    "heatmap": [
                      {
                        "colorbar": {
                          "outlinewidth": 0,
                          "ticks": ""
                        },
                        "colorscale": [
                          [
                            0,
                            "#0d0887"
                          ],
                          [
                            0.1111111111111111,
                            "#46039f"
                          ],
                          [
                            0.2222222222222222,
                            "#7201a8"
                          ],
                          [
                            0.3333333333333333,
                            "#9c179e"
                          ],
                          [
                            0.4444444444444444,
                            "#bd3786"
                          ],
                          [
                            0.5555555555555556,
                            "#d8576b"
                          ],
                          [
                            0.6666666666666666,
                            "#ed7953"
                          ],
                          [
                            0.7777777777777778,
                            "#fb9f3a"
                          ],
                          [
                            0.8888888888888888,
                            "#fdca26"
                          ],
                          [
                            1,
                            "#f0f921"
                          ]
                        ],
                        "type": "heatmap"
                      }
                    ],
                    "histogram2dcontour": [
                      {
                        "colorbar": {
                          "outlinewidth": 0,
                          "ticks": ""
                        },
                        "colorscale": [
                          [
                            0,
                            "#0d0887"
                          ],
                          [
                            0.1111111111111111,
                            "#46039f"
                          ],
                          [
                            0.2222222222222222,
                            "#7201a8"
                          ],
                          [
                            0.3333333333333333,
                            "#9c179e"
                          ],
                          [
                            0.4444444444444444,
                            "#bd3786"
                          ],
                          [
                            0.5555555555555556,
                            "#d8576b"
                          ],
                          [
                            0.6666666666666666,
                            "#ed7953"
                          ],
                          [
                            0.7777777777777778,
                            "#fb9f3a"
                          ],
                          [
                            0.8888888888888888,
                            "#fdca26"
                          ],
                          [
                            1,
                            "#f0f921"
                          ]
                        ],
                        "type": "histogram2dcontour"
                      }
                    ],
                    "histogram2d": [
                      {
                        "colorbar": {
                          "outlinewidth": 0,
                          "ticks": ""
                        },
                        "colorscale": [
                          [
                            0,
                            "#0d0887"
                          ],
                          [
                            0.1111111111111111,
                            "#46039f"
                          ],
                          [
                            0.2222222222222222,
                            "#7201a8"
                          ],
                          [
                            0.3333333333333333,
                            "#9c179e"
                          ],
                          [
                            0.4444444444444444,
                            "#bd3786"
                          ],
                          [
                            0.5555555555555556,
                            "#d8576b"
                          ],
                          [
                            0.6666666666666666,
                            "#ed7953"
                          ],
                          [
                            0.7777777777777778,
                            "#fb9f3a"
                          ],
                          [
                            0.8888888888888888,
                            "#fdca26"
                          ],
                          [
                            1,
                            "#f0f921"
                          ]
                        ],
                        "type": "histogram2d"
                      }
                    ],
                    "histogram": [
                      {
                        "marker": {
                          "pattern": {
                            "fillmode": "overlay",
                            "size": 10,
                            "solidity": 0.2
                          }
                        },
                        "type": "histogram"
                      }
                    ],
                    "mesh3d": [
                      {
                        "colorbar": {
                          "outlinewidth": 0,
                          "ticks": ""
                        },
                        "type": "mesh3d"
                      }
                    ],
                    "parcoords": [
                      {
                        "line": {
                          "colorbar": {
                            "outlinewidth": 0,
                            "ticks": ""
                          }
                        },
                        "type": "parcoords"
                      }
                    ],
                    "pie": [
                      {
                        "automargin": true,
                        "type": "pie"
                      }
                    ],
                    "scatter3d": [
                      {
                        "line": {
                          "colorbar": {
                            "outlinewidth": 0,
                            "ticks": ""
                          }
                        },
                        "marker": {
                          "colorbar": {
                            "outlinewidth": 0,
                            "ticks": ""
                          }
                        },
                        "type": "scatter3d"
                      }
                    ],
                    "scattercarpet": [
                      {
                        "marker": {
                          "colorbar": {
                            "outlinewidth": 0,
                            "ticks": ""
                          }
                        },
                        "type": "scattercarpet"
                      }
                    ],
                    "scattergeo": [
                      {
                        "marker": {
                          "colorbar": {
                            "outlinewidth": 0,
                            "ticks": ""
                          }
                        },
                        "type": "scattergeo"
                      }
                    ],
                    "scattergl": [
                      {
                        "marker": {
                          "colorbar": {
                            "outlinewidth": 0,
                            "ticks": ""
                          }
                        },
                        "type": "scattergl"
                      }
                    ],
                    "scattermapbox": [
                      {
                        "marker": {
                          "colorbar": {
                            "outlinewidth": 0,
                            "ticks": ""
                          }
                        },
                        "type": "scattermapbox"
                      }
                    ],
                    "scatterpolargl": [
                      {
                        "marker": {
                          "colorbar": {
                            "outlinewidth": 0,
                            "ticks": ""
                          }
                        },
                        "type": "scatterpolargl"
                      }
                    ],
                    "scatterpolar": [
                      {
                        "marker": {
                          "colorbar": {
                            "outlinewidth": 0,
                            "ticks": ""
                          }
                        },
                        "type": "scatterpolar"
                      }
                    ],
                    "scatter": [
                      {
                        "marker": {
                          "colorbar": {
                            "outlinewidth": 0,
                            "ticks": ""
                          }
                        },
                        "type": "scatter"
                      }
                    ],
                    "scatterternary": [
                      {
                        "marker": {
                          "colorbar": {
                            "outlinewidth": 0,
                            "ticks": ""
                          }
                        },
                        "type": "scatterternary"
                      }
                    ],
                    "surface": [
                      {
                        "colorbar": {
                          "outlinewidth": 0,
                          "ticks": ""
                        },
                        "colorscale": [
                          [
                            0,
                            "#0d0887"
                          ],
                          [
                            0.1111111111111111,
                            "#46039f"
                          ],
                          [
                            0.2222222222222222,
                            "#7201a8"
                          ],
                          [
                            0.3333333333333333,
                            "#9c179e"
                          ],
                          [
                            0.4444444444444444,
                            "#bd3786"
                          ],
                          [
                            0.5555555555555556,
                            "#d8576b"
                          ],
                          [
                            0.6666666666666666,
                            "#ed7953"
                          ],
                          [
                            0.7777777777777778,
                            "#fb9f3a"
                          ],
                          [
                            0.8888888888888888,
                            "#fdca26"
                          ],
                          [
                            1,
                            "#f0f921"
                          ]
                        ],
                        "type": "surface"
                      }
                    ],
                    "table": [
                      {
                        "cells": {
                          "fill": {
                            "color": "#EBF0F8"
                          },
                          "line": {
                            "color": "white"
                          }
                        },
                        "header": {
                          "fill": {
                            "color": "#C8D4E3"
                          },
                          "line": {
                            "color": "white"
                          }
                        },
                        "type": "table"
                      }
                    ]
                  },
                  "layout": {
                    "annotationdefaults": {
                      "arrowcolor": "#2a3f5f",
                      "arrowhead": 0,
                      "arrowwidth": 1
                    },
                    "autotypenumbers": "strict",
                    "coloraxis": {
                      "colorbar": {
                        "outlinewidth": 0,
                        "ticks": ""
                      }
                    },
                    "colorscale": {
                      "diverging": [
                        [
                          0,
                          "#8e0152"
                        ],
                        [
                          0.1,
                          "#c51b7d"
                        ],
                        [
                          0.2,
                          "#de77ae"
                        ],
                        [
                          0.3,
                          "#f1b6da"
                        ],
                        [
                          0.4,
                          "#fde0ef"
                        ],
                        [
                          0.5,
                          "#f7f7f7"
                        ],
                        [
                          0.6,
                          "#e6f5d0"
                        ],
                        [
                          0.7,
                          "#b8e186"
                        ],
                        [
                          0.8,
                          "#7fbc41"
                        ],
                        [
                          0.9,
                          "#4d9221"
                        ],
                        [
                          1,
                          "#276419"
                        ]
                      ],
                      "sequential": [
                        [
                          0,
                          "#0d0887"
                        ],
                        [
                          0.1111111111111111,
                          "#46039f"
                        ],
                        [
                          0.2222222222222222,
                          "#7201a8"
                        ],
                        [
                          0.3333333333333333,
                          "#9c179e"
                        ],
                        [
                          0.4444444444444444,
                          "#bd3786"
                        ],
                        [
                          0.5555555555555556,
                          "#d8576b"
                        ],
                        [
                          0.6666666666666666,
                          "#ed7953"
                        ],
                        [
                          0.7777777777777778,
                          "#fb9f3a"
                        ],
                        [
                          0.8888888888888888,
                          "#fdca26"
                        ],
                        [
                          1,
                          "#f0f921"
                        ]
                      ],
                      "sequentialminus": [
                        [
                          0,
                          "#0d0887"
                        ],
                        [
                          0.1111111111111111,
                          "#46039f"
                        ],
                        [
                          0.2222222222222222,
                          "#7201a8"
                        ],
                        [
                          0.3333333333333333,
                          "#9c179e"
                        ],
                        [
                          0.4444444444444444,
                          "#bd3786"
                        ],
                        [
                          0.5555555555555556,
                          "#d8576b"
                        ],
                        [
                          0.6666666666666666,
                          "#ed7953"
                        ],
                        [
                          0.7777777777777778,
                          "#fb9f3a"
                        ],
                        [
                          0.8888888888888888,
                          "#fdca26"
                        ],
                        [
                          1,
                          "#f0f921"
                        ]
                      ]
                    },
                    "colorway": [
                      "#636efa",
                      "#EF553B",
                      "#00cc96",
                      "#ab63fa",
                      "#FFA15A",
                      "#19d3f3",
                      "#FF6692",
                      "#B6E880",
                      "#FF97FF",
                      "#FECB52"
                    ],
                    "font": {
                      "color": "#2a3f5f"
                    },
                    "geo": {
                      "bgcolor": "white",
                      "lakecolor": "white",
                      "landcolor": "#E5ECF6",
                      "showlakes": true,
                      "showland": true,
                      "subunitcolor": "white"
                    },
                    "hoverlabel": {
                      "align": "left"
                    },
                    "hovermode": "closest",
                    "mapbox": {
                      "style": "light"
                    },
                    "paper_bgcolor": "white",
                    "plot_bgcolor": "#E5ECF6",
                    "polar": {
                      "angularaxis": {
                        "gridcolor": "white",
                        "linecolor": "white",
                        "ticks": ""
                      },
                      "bgcolor": "#E5ECF6",
                      "radialaxis": {
                        "gridcolor": "white",
                        "linecolor": "white",
                        "ticks": ""
                      }
                    },
                    "scene": {
                      "xaxis": {
                        "backgroundcolor": "#E5ECF6",
                        "gridcolor": "white",
                        "gridwidth": 2,
                        "linecolor": "white",
                        "showbackground": true,
                        "ticks": "",
                        "zerolinecolor": "white"
                      },
                      "yaxis": {
                        "backgroundcolor": "#E5ECF6",
                        "gridcolor": "white",
                        "gridwidth": 2,
                        "linecolor": "white",
                        "showbackground": true,
                        "ticks": "",
                        "zerolinecolor": "white"
                      },
                      "zaxis": {
                        "backgroundcolor": "#E5ECF6",
                        "gridcolor": "white",
                        "gridwidth": 2,
                        "linecolor": "white",
                        "showbackground": true,
                        "ticks": "",
                        "zerolinecolor": "white"
                      }
                    },
                    "shapedefaults": {
                      "line": {
                        "color": "#2a3f5f"
                      }
                    },
                    "ternary": {
                      "aaxis": {
                        "gridcolor": "white",
                        "linecolor": "white",
                        "ticks": ""
                      },
                      "baxis": {
                        "gridcolor": "white",
                        "linecolor": "white",
                        "ticks": ""
                      },
                      "bgcolor": "#E5ECF6",
                      "caxis": {
                        "gridcolor": "white",
                        "linecolor": "white",
                        "ticks": ""
                      }
                    },
                    "title": {
                      "x": 0.05
                    },
                    "xaxis": {
                      "automargin": true,
                      "gridcolor": "white",
                      "linecolor": "white",
                      "ticks": "",
                      "title": {
                        "standoff": 15
                      },
                      "zerolinecolor": "white",
                      "zerolinewidth": 2
                    },
                    "yaxis": {
                      "automargin": true,
                      "gridcolor": "white",
                      "linecolor": "white",
                      "ticks": "",
                      "title": {
                        "standoff": 15
                      },
                      "zerolinecolor": "white",
                      "zerolinewidth": 2
                    }
                  }
                },
                "title": {
                  "text": "Random Forest Feature Importance"
                },
                "xaxis": {
                  "showgrid": false,
                  "showline": false,
                  "ticklen": 5,
                  "zeroline": false
                },
                "yaxis": {
                  "gridwidth": 2,
                  "showgrid": false,
                  "ticklen": 5,
                  "title": {
                    "text": "Feature Importance"
                  },
                  "zeroline": false
                }
              },
              "config": {
                "showLink": false,
                "linkText": "Export to plot.ly",
                "plotlyServerURL": "https://plot.ly"
              }
            },
            "text/html": [
              "<div>                            <div id=\"a4acb5bb-d04c-4c25-8ee6-872836aa6909\" class=\"plotly-graph-div\" style=\"height:525px; width:100%;\"></div>            <script type=\"text/javascript\">                require([\"plotly\"], function(Plotly) {                    window.PLOTLYENV=window.PLOTLYENV || {};                                    if (document.getElementById(\"a4acb5bb-d04c-4c25-8ee6-872836aa6909\")) {                    Plotly.newPlot(                        \"a4acb5bb-d04c-4c25-8ee6-872836aa6909\",                        [{\"marker\":{\"color\":[0.0781654391224557,0.06107433392015423,0.05035969613297547,0.0030682625920916222,0.04280090208417271,0.0034427632378543536,0.03172861344557637,0.047259301738421564,0.0422801247518736,0.07173221318990083,0.011814559549890071,0.028831873899542667,0.005894050865909167,0.0,0.028429759614183557,0.06606604705315434,0.06143862104983989,0.008425646236560112,0.0401094931274094,0.021029332107154824,0.0,0.004091099810545472,0.022910968086618112,0.0,0.0157031081330414,0.0,0.0,0.0,0.015769297171268667,0.0,0.0,0.004130953903504082,0.0,0.0,0.0043943047847826095,0.0,0.0,0.0,0.003268976304016722,0.0116961794474903,0.0,0.0,0.0,0.00348409555979013,0.0008412219635363933,0.019819001904807496,0.0,0.0,0.023080129161344175,0.15040582589655713,0.01645380415357686],\"colorscale\":[[0.0,\"rgb(12,51,131)\"],[0.25,\"rgb(10,136,186)\"],[0.5,\"rgb(242,211,56)\"],[0.75,\"rgb(242,143,56)\"],[1.0,\"rgb(217,30,30)\"]],\"showscale\":true,\"size\":13,\"sizemode\":\"diameter\",\"sizeref\":1},\"mode\":\"markers\",\"text\":[\"Age\",\"DailyRate\",\"DistanceFromHome\",\"Education\",\"EnvironmentSatisfaction\",\"HourlyRate\",\"JobInvolvement\",\"JobLevel\",\"JobSatisfaction\",\"MonthlyIncome\",\"MonthlyRate\",\"NumCompaniesWorked\",\"PercentSalaryHike\",\"PerformanceRating\",\"RelationshipSatisfaction\",\"StockOptionLevel\",\"TotalWorkingYears\",\"TrainingTimesLastYear\",\"WorkLifeBalance\",\"YearsAtCompany\",\"YearsInCurrentRole\",\"YearsSinceLastPromotion\",\"YearsWithCurrManager\",\"BusinessTravel_Non-Travel\",\"BusinessTravel_Travel_Frequently\",\"BusinessTravel_Travel_Rarely\",\"Department_Human Resources\",\"Department_Research & Development\",\"Department_Sales\",\"EducationField_Human Resources\",\"EducationField_Life Sciences\",\"EducationField_Marketing\",\"EducationField_Medical\",\"EducationField_Other\",\"EducationField_Technical Degree\",\"Gender_Female\",\"Gender_Male\",\"JobRole_Healthcare Representative\",\"JobRole_Human Resources\",\"JobRole_Laboratory Technician\",\"JobRole_Manager\",\"JobRole_Manufacturing Director\",\"JobRole_Research Director\",\"JobRole_Research Scientist\",\"JobRole_Sales Executive\",\"JobRole_Sales Representative\",\"MaritalStatus_Divorced\",\"MaritalStatus_Married\",\"MaritalStatus_Single\",\"OverTime_No\",\"OverTime_Yes\"],\"x\":[\"Age\",\"DailyRate\",\"DistanceFromHome\",\"Education\",\"EnvironmentSatisfaction\",\"HourlyRate\",\"JobInvolvement\",\"JobLevel\",\"JobSatisfaction\",\"MonthlyIncome\",\"MonthlyRate\",\"NumCompaniesWorked\",\"PercentSalaryHike\",\"PerformanceRating\",\"RelationshipSatisfaction\",\"StockOptionLevel\",\"TotalWorkingYears\",\"TrainingTimesLastYear\",\"WorkLifeBalance\",\"YearsAtCompany\",\"YearsInCurrentRole\",\"YearsSinceLastPromotion\",\"YearsWithCurrManager\",\"BusinessTravel_Non-Travel\",\"BusinessTravel_Travel_Frequently\",\"BusinessTravel_Travel_Rarely\",\"Department_Human Resources\",\"Department_Research & Development\",\"Department_Sales\",\"EducationField_Human Resources\",\"EducationField_Life Sciences\",\"EducationField_Marketing\",\"EducationField_Medical\",\"EducationField_Other\",\"EducationField_Technical Degree\",\"Gender_Female\",\"Gender_Male\",\"JobRole_Healthcare Representative\",\"JobRole_Human Resources\",\"JobRole_Laboratory Technician\",\"JobRole_Manager\",\"JobRole_Manufacturing Director\",\"JobRole_Research Director\",\"JobRole_Research Scientist\",\"JobRole_Sales Executive\",\"JobRole_Sales Representative\",\"MaritalStatus_Divorced\",\"MaritalStatus_Married\",\"MaritalStatus_Single\",\"OverTime_No\",\"OverTime_Yes\"],\"y\":[0.0781654391224557,0.06107433392015423,0.05035969613297547,0.0030682625920916222,0.04280090208417271,0.0034427632378543536,0.03172861344557637,0.047259301738421564,0.0422801247518736,0.07173221318990083,0.011814559549890071,0.028831873899542667,0.005894050865909167,0.0,0.028429759614183557,0.06606604705315434,0.06143862104983989,0.008425646236560112,0.0401094931274094,0.021029332107154824,0.0,0.004091099810545472,0.022910968086618112,0.0,0.0157031081330414,0.0,0.0,0.0,0.015769297171268667,0.0,0.0,0.004130953903504082,0.0,0.0,0.0043943047847826095,0.0,0.0,0.0,0.003268976304016722,0.0116961794474903,0.0,0.0,0.0,0.00348409555979013,0.0008412219635363933,0.019819001904807496,0.0,0.0,0.023080129161344175,0.15040582589655713,0.01645380415357686],\"type\":\"scatter\"}],                        {\"autosize\":true,\"hovermode\":\"closest\",\"showlegend\":false,\"template\":{\"data\":{\"barpolar\":[{\"marker\":{\"line\":{\"color\":\"#E5ECF6\",\"width\":0.5},\"pattern\":{\"fillmode\":\"overlay\",\"size\":10,\"solidity\":0.2}},\"type\":\"barpolar\"}],\"bar\":[{\"error_x\":{\"color\":\"#2a3f5f\"},\"error_y\":{\"color\":\"#2a3f5f\"},\"marker\":{\"line\":{\"color\":\"#E5ECF6\",\"width\":0.5},\"pattern\":{\"fillmode\":\"overlay\",\"size\":10,\"solidity\":0.2}},\"type\":\"bar\"}],\"carpet\":[{\"aaxis\":{\"endlinecolor\":\"#2a3f5f\",\"gridcolor\":\"white\",\"linecolor\":\"white\",\"minorgridcolor\":\"white\",\"startlinecolor\":\"#2a3f5f\"},\"baxis\":{\"endlinecolor\":\"#2a3f5f\",\"gridcolor\":\"white\",\"linecolor\":\"white\",\"minorgridcolor\":\"white\",\"startlinecolor\":\"#2a3f5f\"},\"type\":\"carpet\"}],\"choropleth\":[{\"colorbar\":{\"outlinewidth\":0,\"ticks\":\"\"},\"type\":\"choropleth\"}],\"contourcarpet\":[{\"colorbar\":{\"outlinewidth\":0,\"ticks\":\"\"},\"type\":\"contourcarpet\"}],\"contour\":[{\"colorbar\":{\"outlinewidth\":0,\"ticks\":\"\"},\"colorscale\":[[0.0,\"#0d0887\"],[0.1111111111111111,\"#46039f\"],[0.2222222222222222,\"#7201a8\"],[0.3333333333333333,\"#9c179e\"],[0.4444444444444444,\"#bd3786\"],[0.5555555555555556,\"#d8576b\"],[0.6666666666666666,\"#ed7953\"],[0.7777777777777778,\"#fb9f3a\"],[0.8888888888888888,\"#fdca26\"],[1.0,\"#f0f921\"]],\"type\":\"contour\"}],\"heatmapgl\":[{\"colorbar\":{\"outlinewidth\":0,\"ticks\":\"\"},\"colorscale\":[[0.0,\"#0d0887\"],[0.1111111111111111,\"#46039f\"],[0.2222222222222222,\"#7201a8\"],[0.3333333333333333,\"#9c179e\"],[0.4444444444444444,\"#bd3786\"],[0.5555555555555556,\"#d8576b\"],[0.6666666666666666,\"#ed7953\"],[0.7777777777777778,\"#fb9f3a\"],[0.8888888888888888,\"#fdca26\"],[1.0,\"#f0f921\"]],\"type\":\"heatmapgl\"}],\"heatmap\":[{\"colorbar\":{\"outlinewidth\":0,\"ticks\":\"\"},\"colorscale\":[[0.0,\"#0d0887\"],[0.1111111111111111,\"#46039f\"],[0.2222222222222222,\"#7201a8\"],[0.3333333333333333,\"#9c179e\"],[0.4444444444444444,\"#bd3786\"],[0.5555555555555556,\"#d8576b\"],[0.6666666666666666,\"#ed7953\"],[0.7777777777777778,\"#fb9f3a\"],[0.8888888888888888,\"#fdca26\"],[1.0,\"#f0f921\"]],\"type\":\"heatmap\"}],\"histogram2dcontour\":[{\"colorbar\":{\"outlinewidth\":0,\"ticks\":\"\"},\"colorscale\":[[0.0,\"#0d0887\"],[0.1111111111111111,\"#46039f\"],[0.2222222222222222,\"#7201a8\"],[0.3333333333333333,\"#9c179e\"],[0.4444444444444444,\"#bd3786\"],[0.5555555555555556,\"#d8576b\"],[0.6666666666666666,\"#ed7953\"],[0.7777777777777778,\"#fb9f3a\"],[0.8888888888888888,\"#fdca26\"],[1.0,\"#f0f921\"]],\"type\":\"histogram2dcontour\"}],\"histogram2d\":[{\"colorbar\":{\"outlinewidth\":0,\"ticks\":\"\"},\"colorscale\":[[0.0,\"#0d0887\"],[0.1111111111111111,\"#46039f\"],[0.2222222222222222,\"#7201a8\"],[0.3333333333333333,\"#9c179e\"],[0.4444444444444444,\"#bd3786\"],[0.5555555555555556,\"#d8576b\"],[0.6666666666666666,\"#ed7953\"],[0.7777777777777778,\"#fb9f3a\"],[0.8888888888888888,\"#fdca26\"],[1.0,\"#f0f921\"]],\"type\":\"histogram2d\"}],\"histogram\":[{\"marker\":{\"pattern\":{\"fillmode\":\"overlay\",\"size\":10,\"solidity\":0.2}},\"type\":\"histogram\"}],\"mesh3d\":[{\"colorbar\":{\"outlinewidth\":0,\"ticks\":\"\"},\"type\":\"mesh3d\"}],\"parcoords\":[{\"line\":{\"colorbar\":{\"outlinewidth\":0,\"ticks\":\"\"}},\"type\":\"parcoords\"}],\"pie\":[{\"automargin\":true,\"type\":\"pie\"}],\"scatter3d\":[{\"line\":{\"colorbar\":{\"outlinewidth\":0,\"ticks\":\"\"}},\"marker\":{\"colorbar\":{\"outlinewidth\":0,\"ticks\":\"\"}},\"type\":\"scatter3d\"}],\"scattercarpet\":[{\"marker\":{\"colorbar\":{\"outlinewidth\":0,\"ticks\":\"\"}},\"type\":\"scattercarpet\"}],\"scattergeo\":[{\"marker\":{\"colorbar\":{\"outlinewidth\":0,\"ticks\":\"\"}},\"type\":\"scattergeo\"}],\"scattergl\":[{\"marker\":{\"colorbar\":{\"outlinewidth\":0,\"ticks\":\"\"}},\"type\":\"scattergl\"}],\"scattermapbox\":[{\"marker\":{\"colorbar\":{\"outlinewidth\":0,\"ticks\":\"\"}},\"type\":\"scattermapbox\"}],\"scatterpolargl\":[{\"marker\":{\"colorbar\":{\"outlinewidth\":0,\"ticks\":\"\"}},\"type\":\"scatterpolargl\"}],\"scatterpolar\":[{\"marker\":{\"colorbar\":{\"outlinewidth\":0,\"ticks\":\"\"}},\"type\":\"scatterpolar\"}],\"scatter\":[{\"marker\":{\"colorbar\":{\"outlinewidth\":0,\"ticks\":\"\"}},\"type\":\"scatter\"}],\"scatterternary\":[{\"marker\":{\"colorbar\":{\"outlinewidth\":0,\"ticks\":\"\"}},\"type\":\"scatterternary\"}],\"surface\":[{\"colorbar\":{\"outlinewidth\":0,\"ticks\":\"\"},\"colorscale\":[[0.0,\"#0d0887\"],[0.1111111111111111,\"#46039f\"],[0.2222222222222222,\"#7201a8\"],[0.3333333333333333,\"#9c179e\"],[0.4444444444444444,\"#bd3786\"],[0.5555555555555556,\"#d8576b\"],[0.6666666666666666,\"#ed7953\"],[0.7777777777777778,\"#fb9f3a\"],[0.8888888888888888,\"#fdca26\"],[1.0,\"#f0f921\"]],\"type\":\"surface\"}],\"table\":[{\"cells\":{\"fill\":{\"color\":\"#EBF0F8\"},\"line\":{\"color\":\"white\"}},\"header\":{\"fill\":{\"color\":\"#C8D4E3\"},\"line\":{\"color\":\"white\"}},\"type\":\"table\"}]},\"layout\":{\"annotationdefaults\":{\"arrowcolor\":\"#2a3f5f\",\"arrowhead\":0,\"arrowwidth\":1},\"autotypenumbers\":\"strict\",\"coloraxis\":{\"colorbar\":{\"outlinewidth\":0,\"ticks\":\"\"}},\"colorscale\":{\"diverging\":[[0,\"#8e0152\"],[0.1,\"#c51b7d\"],[0.2,\"#de77ae\"],[0.3,\"#f1b6da\"],[0.4,\"#fde0ef\"],[0.5,\"#f7f7f7\"],[0.6,\"#e6f5d0\"],[0.7,\"#b8e186\"],[0.8,\"#7fbc41\"],[0.9,\"#4d9221\"],[1,\"#276419\"]],\"sequential\":[[0.0,\"#0d0887\"],[0.1111111111111111,\"#46039f\"],[0.2222222222222222,\"#7201a8\"],[0.3333333333333333,\"#9c179e\"],[0.4444444444444444,\"#bd3786\"],[0.5555555555555556,\"#d8576b\"],[0.6666666666666666,\"#ed7953\"],[0.7777777777777778,\"#fb9f3a\"],[0.8888888888888888,\"#fdca26\"],[1.0,\"#f0f921\"]],\"sequentialminus\":[[0.0,\"#0d0887\"],[0.1111111111111111,\"#46039f\"],[0.2222222222222222,\"#7201a8\"],[0.3333333333333333,\"#9c179e\"],[0.4444444444444444,\"#bd3786\"],[0.5555555555555556,\"#d8576b\"],[0.6666666666666666,\"#ed7953\"],[0.7777777777777778,\"#fb9f3a\"],[0.8888888888888888,\"#fdca26\"],[1.0,\"#f0f921\"]]},\"colorway\":[\"#636efa\",\"#EF553B\",\"#00cc96\",\"#ab63fa\",\"#FFA15A\",\"#19d3f3\",\"#FF6692\",\"#B6E880\",\"#FF97FF\",\"#FECB52\"],\"font\":{\"color\":\"#2a3f5f\"},\"geo\":{\"bgcolor\":\"white\",\"lakecolor\":\"white\",\"landcolor\":\"#E5ECF6\",\"showlakes\":true,\"showland\":true,\"subunitcolor\":\"white\"},\"hoverlabel\":{\"align\":\"left\"},\"hovermode\":\"closest\",\"mapbox\":{\"style\":\"light\"},\"paper_bgcolor\":\"white\",\"plot_bgcolor\":\"#E5ECF6\",\"polar\":{\"angularaxis\":{\"gridcolor\":\"white\",\"linecolor\":\"white\",\"ticks\":\"\"},\"bgcolor\":\"#E5ECF6\",\"radialaxis\":{\"gridcolor\":\"white\",\"linecolor\":\"white\",\"ticks\":\"\"}},\"scene\":{\"xaxis\":{\"backgroundcolor\":\"#E5ECF6\",\"gridcolor\":\"white\",\"gridwidth\":2,\"linecolor\":\"white\",\"showbackground\":true,\"ticks\":\"\",\"zerolinecolor\":\"white\"},\"yaxis\":{\"backgroundcolor\":\"#E5ECF6\",\"gridcolor\":\"white\",\"gridwidth\":2,\"linecolor\":\"white\",\"showbackground\":true,\"ticks\":\"\",\"zerolinecolor\":\"white\"},\"zaxis\":{\"backgroundcolor\":\"#E5ECF6\",\"gridcolor\":\"white\",\"gridwidth\":2,\"linecolor\":\"white\",\"showbackground\":true,\"ticks\":\"\",\"zerolinecolor\":\"white\"}},\"shapedefaults\":{\"line\":{\"color\":\"#2a3f5f\"}},\"ternary\":{\"aaxis\":{\"gridcolor\":\"white\",\"linecolor\":\"white\",\"ticks\":\"\"},\"baxis\":{\"gridcolor\":\"white\",\"linecolor\":\"white\",\"ticks\":\"\"},\"bgcolor\":\"#E5ECF6\",\"caxis\":{\"gridcolor\":\"white\",\"linecolor\":\"white\",\"ticks\":\"\"}},\"title\":{\"x\":0.05},\"xaxis\":{\"automargin\":true,\"gridcolor\":\"white\",\"linecolor\":\"white\",\"ticks\":\"\",\"title\":{\"standoff\":15},\"zerolinecolor\":\"white\",\"zerolinewidth\":2},\"yaxis\":{\"automargin\":true,\"gridcolor\":\"white\",\"linecolor\":\"white\",\"ticks\":\"\",\"title\":{\"standoff\":15},\"zerolinecolor\":\"white\",\"zerolinewidth\":2}}},\"title\":{\"text\":\"Random Forest Feature Importance\"},\"xaxis\":{\"showgrid\":false,\"showline\":false,\"ticklen\":5,\"zeroline\":false},\"yaxis\":{\"gridwidth\":2,\"showgrid\":false,\"ticklen\":5,\"title\":{\"text\":\"Feature Importance\"},\"zeroline\":false}},                        {\"responsive\": true}                    ).then(function(){\n",
              "                            \n",
              "var gd = document.getElementById('a4acb5bb-d04c-4c25-8ee6-872836aa6909');\n",
              "var x = new MutationObserver(function (mutations, observer) {{\n",
              "        var display = window.getComputedStyle(gd).display;\n",
              "        if (!display || display === 'none') {{\n",
              "            console.log([gd, 'removed!']);\n",
              "            Plotly.purge(gd);\n",
              "            observer.disconnect();\n",
              "        }}\n",
              "}});\n",
              "\n",
              "// Listen for the removal of the full notebook cells\n",
              "var notebookContainer = gd.closest('#notebook-container');\n",
              "if (notebookContainer) {{\n",
              "    x.observe(notebookContainer, {childList: true});\n",
              "}}\n",
              "\n",
              "// Listen for the clearing of the current output cell\n",
              "var outputEl = gd.closest('.output');\n",
              "if (outputEl) {{\n",
              "    x.observe(outputEl, {childList: true});\n",
              "}}\n",
              "\n",
              "                        })                };                });            </script>        </div>"
            ]
          },
          "metadata": {}
        }
      ],
      "source": [
        "# Import statements required for Plotly \n",
        "import plotly.offline as py\n",
        "py.init_notebook_mode(connected=True)\n",
        "import plotly.graph_objs as go\n",
        "import plotly.tools as tls\n",
        "trace = go.Scatter(\n",
        "    y = rf_best.feature_importances_,\n",
        "    x = x_train.columns.values,\n",
        "    mode='markers',\n",
        "    marker=dict(\n",
        "        sizemode = 'diameter',\n",
        "        sizeref = 1,\n",
        "        size = 13,\n",
        "        #size= rf.feature_importances_,\n",
        "        #color = np.random.randn(500), #set color equal to a variable\n",
        "        color = rf_best.feature_importances_,\n",
        "        colorscale='Portland',\n",
        "        showscale=True\n",
        "    ),\n",
        "    text = x_train.columns.values\n",
        ")\n",
        "data = [trace]\n",
        "\n",
        "layout= go.Layout(\n",
        "    autosize= True,\n",
        "    title= 'Random Forest Feature Importance',\n",
        "    hovermode= 'closest',\n",
        "     xaxis= dict(\n",
        "         ticklen= 5,\n",
        "         showgrid=False,\n",
        "        zeroline=False,\n",
        "        showline=False\n",
        "     ),\n",
        "    yaxis=dict(\n",
        "        title= 'Feature Importance',\n",
        "        showgrid=False,\n",
        "        zeroline=False,\n",
        "        ticklen= 5,\n",
        "        gridwidth= 2\n",
        "    ),\n",
        "    showlegend= False\n",
        ")\n",
        "fig = go.Figure(data=data, layout=layout)\n",
        "py.iplot(fig,filename='scatter2010')\n"
      ]
    },
    {
      "cell_type": "code",
      "execution_count": null,
      "id": "adcb8487",
      "metadata": {
        "execution": {
          "iopub.execute_input": "2022-02-07T17:39:54.105594Z",
          "iopub.status.busy": "2022-02-07T17:39:54.104904Z",
          "iopub.status.idle": "2022-02-07T17:39:54.163449Z",
          "shell.execute_reply": "2022-02-07T17:39:54.163903Z",
          "shell.execute_reply.started": "2022-02-07T17:34:52.123525Z"
        },
        "papermill": {
          "duration": 0.143404,
          "end_time": "2022-02-07T17:39:54.164073",
          "exception": false,
          "start_time": "2022-02-07T17:39:54.020669",
          "status": "completed"
        },
        "tags": [],
        "colab": {
          "base_uri": "https://localhost:8080/"
        },
        "id": "adcb8487",
        "outputId": "291fb26d-9d1a-4ae1-cf00-88fc98e42e23"
      },
      "outputs": [
        {
          "output_type": "stream",
          "name": "stdout",
          "text": [
            "Train Model Score:100.00%.\n",
            "Test Model Score:87.07%.\n",
            "\n",
            "Train Model Score after Hyper Parameter Tunning: 91.07%.\n",
            "Test Model Score after Hyper Parameter Tunning:87.41%.\n"
          ]
        }
      ],
      "source": [
        "\n",
        "y_pred = final_model.predict(x_test)\n",
        "print(\"Train Model Score:{:0.2f}%.\".format( 100 * model.score(x_train, y_train)))\n",
        "print(\"Test Model Score:{:0.2f}%.\".format( 100 * model.score(x_test, y_test)))\n",
        "print(\"\\nTrain Model Score after Hyper Parameter Tunning: {:0.2f}%.\".format( 100 * final_model.score(x_train, y_train)))\n",
        "print(\"Test Model Score after Hyper Parameter Tunning:{:0.2f}%.\".format( 100 * final_model.score(x_test, y_test)))\n",
        "predication_output = pd.DataFrame({'Id': x_test.index ,'Target': y_pred })"
      ]
    },
    {
      "cell_type": "code",
      "execution_count": null,
      "id": "b18f7933",
      "metadata": {
        "execution": {
          "iopub.execute_input": "2022-02-07T17:39:54.321505Z",
          "iopub.status.busy": "2022-02-07T17:39:54.320849Z",
          "iopub.status.idle": "2022-02-07T17:39:54.323436Z",
          "shell.execute_reply": "2022-02-07T17:39:54.323889Z",
          "shell.execute_reply.started": "2022-02-07T17:35:14.639503Z"
        },
        "papermill": {
          "duration": 0.085665,
          "end_time": "2022-02-07T17:39:54.324081",
          "exception": false,
          "start_time": "2022-02-07T17:39:54.238416",
          "status": "completed"
        },
        "tags": [],
        "colab": {
          "base_uri": "https://localhost:8080/",
          "height": 520
        },
        "id": "b18f7933",
        "outputId": "7e17b8c5-5e54-4f48-b8b1-d31f6da4f553"
      },
      "outputs": [
        {
          "output_type": "execute_result",
          "data": {
            "text/plain": [
              "      Id  Target\n",
              "0     78       0\n",
              "1    623       0\n",
              "2    787       0\n",
              "3    529       0\n",
              "4    195       0\n",
              "5    109       0\n",
              "6    365       0\n",
              "7    931       0\n",
              "8     62       0\n",
              "9    299       0\n",
              "10   960       0\n",
              "11   875       0\n",
              "12  1002       0\n",
              "13   601       0\n",
              "14  1394       0"
            ],
            "text/html": [
              "\n",
              "  <div id=\"df-251b493c-1168-438a-906c-127d123bd85f\">\n",
              "    <div class=\"colab-df-container\">\n",
              "      <div>\n",
              "<style scoped>\n",
              "    .dataframe tbody tr th:only-of-type {\n",
              "        vertical-align: middle;\n",
              "    }\n",
              "\n",
              "    .dataframe tbody tr th {\n",
              "        vertical-align: top;\n",
              "    }\n",
              "\n",
              "    .dataframe thead th {\n",
              "        text-align: right;\n",
              "    }\n",
              "</style>\n",
              "<table border=\"1\" class=\"dataframe\">\n",
              "  <thead>\n",
              "    <tr style=\"text-align: right;\">\n",
              "      <th></th>\n",
              "      <th>Id</th>\n",
              "      <th>Target</th>\n",
              "    </tr>\n",
              "  </thead>\n",
              "  <tbody>\n",
              "    <tr>\n",
              "      <th>0</th>\n",
              "      <td>78</td>\n",
              "      <td>0</td>\n",
              "    </tr>\n",
              "    <tr>\n",
              "      <th>1</th>\n",
              "      <td>623</td>\n",
              "      <td>0</td>\n",
              "    </tr>\n",
              "    <tr>\n",
              "      <th>2</th>\n",
              "      <td>787</td>\n",
              "      <td>0</td>\n",
              "    </tr>\n",
              "    <tr>\n",
              "      <th>3</th>\n",
              "      <td>529</td>\n",
              "      <td>0</td>\n",
              "    </tr>\n",
              "    <tr>\n",
              "      <th>4</th>\n",
              "      <td>195</td>\n",
              "      <td>0</td>\n",
              "    </tr>\n",
              "    <tr>\n",
              "      <th>5</th>\n",
              "      <td>109</td>\n",
              "      <td>0</td>\n",
              "    </tr>\n",
              "    <tr>\n",
              "      <th>6</th>\n",
              "      <td>365</td>\n",
              "      <td>0</td>\n",
              "    </tr>\n",
              "    <tr>\n",
              "      <th>7</th>\n",
              "      <td>931</td>\n",
              "      <td>0</td>\n",
              "    </tr>\n",
              "    <tr>\n",
              "      <th>8</th>\n",
              "      <td>62</td>\n",
              "      <td>0</td>\n",
              "    </tr>\n",
              "    <tr>\n",
              "      <th>9</th>\n",
              "      <td>299</td>\n",
              "      <td>0</td>\n",
              "    </tr>\n",
              "    <tr>\n",
              "      <th>10</th>\n",
              "      <td>960</td>\n",
              "      <td>0</td>\n",
              "    </tr>\n",
              "    <tr>\n",
              "      <th>11</th>\n",
              "      <td>875</td>\n",
              "      <td>0</td>\n",
              "    </tr>\n",
              "    <tr>\n",
              "      <th>12</th>\n",
              "      <td>1002</td>\n",
              "      <td>0</td>\n",
              "    </tr>\n",
              "    <tr>\n",
              "      <th>13</th>\n",
              "      <td>601</td>\n",
              "      <td>0</td>\n",
              "    </tr>\n",
              "    <tr>\n",
              "      <th>14</th>\n",
              "      <td>1394</td>\n",
              "      <td>0</td>\n",
              "    </tr>\n",
              "  </tbody>\n",
              "</table>\n",
              "</div>\n",
              "      <button class=\"colab-df-convert\" onclick=\"convertToInteractive('df-251b493c-1168-438a-906c-127d123bd85f')\"\n",
              "              title=\"Convert this dataframe to an interactive table.\"\n",
              "              style=\"display:none;\">\n",
              "        \n",
              "  <svg xmlns=\"http://www.w3.org/2000/svg\" height=\"24px\"viewBox=\"0 0 24 24\"\n",
              "       width=\"24px\">\n",
              "    <path d=\"M0 0h24v24H0V0z\" fill=\"none\"/>\n",
              "    <path d=\"M18.56 5.44l.94 2.06.94-2.06 2.06-.94-2.06-.94-.94-2.06-.94 2.06-2.06.94zm-11 1L8.5 8.5l.94-2.06 2.06-.94-2.06-.94L8.5 2.5l-.94 2.06-2.06.94zm10 10l.94 2.06.94-2.06 2.06-.94-2.06-.94-.94-2.06-.94 2.06-2.06.94z\"/><path d=\"M17.41 7.96l-1.37-1.37c-.4-.4-.92-.59-1.43-.59-.52 0-1.04.2-1.43.59L10.3 9.45l-7.72 7.72c-.78.78-.78 2.05 0 2.83L4 21.41c.39.39.9.59 1.41.59.51 0 1.02-.2 1.41-.59l7.78-7.78 2.81-2.81c.8-.78.8-2.07 0-2.86zM5.41 20L4 18.59l7.72-7.72 1.47 1.35L5.41 20z\"/>\n",
              "  </svg>\n",
              "      </button>\n",
              "      \n",
              "  <style>\n",
              "    .colab-df-container {\n",
              "      display:flex;\n",
              "      flex-wrap:wrap;\n",
              "      gap: 12px;\n",
              "    }\n",
              "\n",
              "    .colab-df-convert {\n",
              "      background-color: #E8F0FE;\n",
              "      border: none;\n",
              "      border-radius: 50%;\n",
              "      cursor: pointer;\n",
              "      display: none;\n",
              "      fill: #1967D2;\n",
              "      height: 32px;\n",
              "      padding: 0 0 0 0;\n",
              "      width: 32px;\n",
              "    }\n",
              "\n",
              "    .colab-df-convert:hover {\n",
              "      background-color: #E2EBFA;\n",
              "      box-shadow: 0px 1px 2px rgba(60, 64, 67, 0.3), 0px 1px 3px 1px rgba(60, 64, 67, 0.15);\n",
              "      fill: #174EA6;\n",
              "    }\n",
              "\n",
              "    [theme=dark] .colab-df-convert {\n",
              "      background-color: #3B4455;\n",
              "      fill: #D2E3FC;\n",
              "    }\n",
              "\n",
              "    [theme=dark] .colab-df-convert:hover {\n",
              "      background-color: #434B5C;\n",
              "      box-shadow: 0px 1px 3px 1px rgba(0, 0, 0, 0.15);\n",
              "      filter: drop-shadow(0px 1px 2px rgba(0, 0, 0, 0.3));\n",
              "      fill: #FFFFFF;\n",
              "    }\n",
              "  </style>\n",
              "\n",
              "      <script>\n",
              "        const buttonEl =\n",
              "          document.querySelector('#df-251b493c-1168-438a-906c-127d123bd85f button.colab-df-convert');\n",
              "        buttonEl.style.display =\n",
              "          google.colab.kernel.accessAllowed ? 'block' : 'none';\n",
              "\n",
              "        async function convertToInteractive(key) {\n",
              "          const element = document.querySelector('#df-251b493c-1168-438a-906c-127d123bd85f');\n",
              "          const dataTable =\n",
              "            await google.colab.kernel.invokeFunction('convertToInteractive',\n",
              "                                                     [key], {});\n",
              "          if (!dataTable) return;\n",
              "\n",
              "          const docLinkHtml = 'Like what you see? Visit the ' +\n",
              "            '<a target=\"_blank\" href=https://colab.research.google.com/notebooks/data_table.ipynb>data table notebook</a>'\n",
              "            + ' to learn more about interactive tables.';\n",
              "          element.innerHTML = '';\n",
              "          dataTable['output_type'] = 'display_data';\n",
              "          await google.colab.output.renderOutput(dataTable, element);\n",
              "          const docLink = document.createElement('div');\n",
              "          docLink.innerHTML = docLinkHtml;\n",
              "          element.appendChild(docLink);\n",
              "        }\n",
              "      </script>\n",
              "    </div>\n",
              "  </div>\n",
              "  "
            ]
          },
          "metadata": {},
          "execution_count": 37
        }
      ],
      "source": [
        "predication_output.head(15)"
      ]
    },
    {
      "cell_type": "code",
      "execution_count": null,
      "id": "dc5c84ec",
      "metadata": {
        "papermill": {
          "duration": 0.075015,
          "end_time": "2022-02-07T17:39:54.473904",
          "exception": false,
          "start_time": "2022-02-07T17:39:54.398889",
          "status": "completed"
        },
        "tags": [],
        "id": "dc5c84ec"
      },
      "outputs": [],
      "source": []
    }
  ],
  "metadata": {
    "kernelspec": {
      "display_name": "Python 3",
      "language": "python",
      "name": "python3"
    },
    "language_info": {
      "codemirror_mode": {
        "name": "ipython",
        "version": 3
      },
      "file_extension": ".py",
      "mimetype": "text/x-python",
      "name": "python",
      "nbconvert_exporter": "python",
      "pygments_lexer": "ipython3",
      "version": "3.7.12"
    },
    "papermill": {
      "default_parameters": {},
      "duration": 41.319851,
      "end_time": "2022-02-07T17:39:55.260269",
      "environment_variables": {},
      "exception": null,
      "input_path": "__notebook__.ipynb",
      "output_path": "__notebook__.ipynb",
      "parameters": {},
      "start_time": "2022-02-07T17:39:13.940418",
      "version": "2.3.3"
    },
    "colab": {
      "provenance": [],
      "collapsed_sections": [
        "ed261600",
        "02a4896c",
        "310212da",
        "7771742b",
        "ca99c63f",
        "25968f2f",
        "8227ea59",
        "fdc1db1d",
        "3da9a183",
        "7044c386"
      ]
    }
  },
  "nbformat": 4,
  "nbformat_minor": 5
}